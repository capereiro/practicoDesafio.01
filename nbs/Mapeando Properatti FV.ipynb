{
 "cells": [
  {
   "cell_type": "markdown",
   "metadata": {},
   "source": [
    "# Mapeando Properatti:"
   ]
  },
  {
   "cell_type": "code",
   "execution_count": 1,
   "metadata": {},
   "outputs": [],
   "source": [
    "import numpy as np\n",
    "import pandas as pd\n",
    "%matplotlib inline\n",
    "import matplotlib.pyplot as plt\n",
    "df = pd.read_csv(\"properatti.csv\")"
   ]
  },
  {
   "cell_type": "markdown",
   "metadata": {},
   "source": [
    "## Nulos :"
   ]
  },
  {
   "cell_type": "markdown",
   "metadata": {},
   "source": [
    "Iniciemos haciendo un recorrido por cada columna en su estado original."
   ]
  },
  {
   "cell_type": "code",
   "execution_count": 2,
   "metadata": {
    "scrolled": true
   },
   "outputs": [
    {
     "data": {
      "text/html": [
       "<div>\n",
       "<style scoped>\n",
       "    .dataframe tbody tr th:only-of-type {\n",
       "        vertical-align: middle;\n",
       "    }\n",
       "\n",
       "    .dataframe tbody tr th {\n",
       "        vertical-align: top;\n",
       "    }\n",
       "\n",
       "    .dataframe thead th {\n",
       "        text-align: right;\n",
       "    }\n",
       "</style>\n",
       "<table border=\"1\" class=\"dataframe\">\n",
       "  <thead>\n",
       "    <tr style=\"text-align: right;\">\n",
       "      <th></th>\n",
       "      <th>Columnas</th>\n",
       "      <th>Nulos</th>\n",
       "      <th>Nulos %</th>\n",
       "    </tr>\n",
       "  </thead>\n",
       "  <tbody>\n",
       "    <tr>\n",
       "      <th>1</th>\n",
       "      <td>Unnamed: 0</td>\n",
       "      <td>0</td>\n",
       "      <td>0.00</td>\n",
       "    </tr>\n",
       "    <tr>\n",
       "      <th>2</th>\n",
       "      <td>operation</td>\n",
       "      <td>0</td>\n",
       "      <td>0.00</td>\n",
       "    </tr>\n",
       "    <tr>\n",
       "      <th>3</th>\n",
       "      <td>property_type</td>\n",
       "      <td>0</td>\n",
       "      <td>0.00</td>\n",
       "    </tr>\n",
       "    <tr>\n",
       "      <th>4</th>\n",
       "      <td>place_name</td>\n",
       "      <td>23</td>\n",
       "      <td>0.02</td>\n",
       "    </tr>\n",
       "    <tr>\n",
       "      <th>5</th>\n",
       "      <td>place_with_parent_names</td>\n",
       "      <td>0</td>\n",
       "      <td>0.00</td>\n",
       "    </tr>\n",
       "    <tr>\n",
       "      <th>6</th>\n",
       "      <td>country_name</td>\n",
       "      <td>0</td>\n",
       "      <td>0.00</td>\n",
       "    </tr>\n",
       "    <tr>\n",
       "      <th>7</th>\n",
       "      <td>state_name</td>\n",
       "      <td>0</td>\n",
       "      <td>0.00</td>\n",
       "    </tr>\n",
       "    <tr>\n",
       "      <th>8</th>\n",
       "      <td>geonames_id</td>\n",
       "      <td>18717</td>\n",
       "      <td>15.44</td>\n",
       "    </tr>\n",
       "    <tr>\n",
       "      <th>9</th>\n",
       "      <td>lat-lon</td>\n",
       "      <td>51550</td>\n",
       "      <td>42.53</td>\n",
       "    </tr>\n",
       "    <tr>\n",
       "      <th>10</th>\n",
       "      <td>lat</td>\n",
       "      <td>51550</td>\n",
       "      <td>42.53</td>\n",
       "    </tr>\n",
       "    <tr>\n",
       "      <th>11</th>\n",
       "      <td>lon</td>\n",
       "      <td>51550</td>\n",
       "      <td>42.53</td>\n",
       "    </tr>\n",
       "    <tr>\n",
       "      <th>12</th>\n",
       "      <td>price</td>\n",
       "      <td>20410</td>\n",
       "      <td>16.84</td>\n",
       "    </tr>\n",
       "    <tr>\n",
       "      <th>13</th>\n",
       "      <td>currency</td>\n",
       "      <td>20411</td>\n",
       "      <td>16.84</td>\n",
       "    </tr>\n",
       "    <tr>\n",
       "      <th>14</th>\n",
       "      <td>price_aprox_local_currency</td>\n",
       "      <td>20410</td>\n",
       "      <td>16.84</td>\n",
       "    </tr>\n",
       "    <tr>\n",
       "      <th>15</th>\n",
       "      <td>price_aprox_usd</td>\n",
       "      <td>20410</td>\n",
       "      <td>16.84</td>\n",
       "    </tr>\n",
       "    <tr>\n",
       "      <th>16</th>\n",
       "      <td>surface_total_in_m2</td>\n",
       "      <td>39328</td>\n",
       "      <td>32.44</td>\n",
       "    </tr>\n",
       "    <tr>\n",
       "      <th>17</th>\n",
       "      <td>surface_covered_in_m2</td>\n",
       "      <td>19907</td>\n",
       "      <td>16.42</td>\n",
       "    </tr>\n",
       "    <tr>\n",
       "      <th>18</th>\n",
       "      <td>price_usd_per_m2</td>\n",
       "      <td>52603</td>\n",
       "      <td>43.39</td>\n",
       "    </tr>\n",
       "    <tr>\n",
       "      <th>19</th>\n",
       "      <td>price_per_m2</td>\n",
       "      <td>33562</td>\n",
       "      <td>27.69</td>\n",
       "    </tr>\n",
       "    <tr>\n",
       "      <th>20</th>\n",
       "      <td>floor</td>\n",
       "      <td>113321</td>\n",
       "      <td>93.48</td>\n",
       "    </tr>\n",
       "    <tr>\n",
       "      <th>21</th>\n",
       "      <td>rooms</td>\n",
       "      <td>73830</td>\n",
       "      <td>60.91</td>\n",
       "    </tr>\n",
       "    <tr>\n",
       "      <th>22</th>\n",
       "      <td>expenses</td>\n",
       "      <td>106958</td>\n",
       "      <td>88.23</td>\n",
       "    </tr>\n",
       "    <tr>\n",
       "      <th>23</th>\n",
       "      <td>properati_url</td>\n",
       "      <td>0</td>\n",
       "      <td>0.00</td>\n",
       "    </tr>\n",
       "    <tr>\n",
       "      <th>24</th>\n",
       "      <td>description</td>\n",
       "      <td>2</td>\n",
       "      <td>0.00</td>\n",
       "    </tr>\n",
       "    <tr>\n",
       "      <th>25</th>\n",
       "      <td>title</td>\n",
       "      <td>0</td>\n",
       "      <td>0.00</td>\n",
       "    </tr>\n",
       "    <tr>\n",
       "      <th>26</th>\n",
       "      <td>image_thumbnail</td>\n",
       "      <td>3112</td>\n",
       "      <td>2.57</td>\n",
       "    </tr>\n",
       "  </tbody>\n",
       "</table>\n",
       "</div>"
      ],
      "text/plain": [
       "                      Columnas   Nulos  Nulos %\n",
       "1                   Unnamed: 0       0     0.00\n",
       "2                    operation       0     0.00\n",
       "3                property_type       0     0.00\n",
       "4                   place_name      23     0.02\n",
       "5      place_with_parent_names       0     0.00\n",
       "6                 country_name       0     0.00\n",
       "7                   state_name       0     0.00\n",
       "8                  geonames_id   18717    15.44\n",
       "9                      lat-lon   51550    42.53\n",
       "10                         lat   51550    42.53\n",
       "11                         lon   51550    42.53\n",
       "12                       price   20410    16.84\n",
       "13                    currency   20411    16.84\n",
       "14  price_aprox_local_currency   20410    16.84\n",
       "15             price_aprox_usd   20410    16.84\n",
       "16         surface_total_in_m2   39328    32.44\n",
       "17       surface_covered_in_m2   19907    16.42\n",
       "18            price_usd_per_m2   52603    43.39\n",
       "19                price_per_m2   33562    27.69\n",
       "20                       floor  113321    93.48\n",
       "21                       rooms   73830    60.91\n",
       "22                    expenses  106958    88.23\n",
       "23               properati_url       0     0.00\n",
       "24                 description       2     0.00\n",
       "25                       title       0     0.00\n",
       "26             image_thumbnail    3112     2.57"
      ]
     },
     "execution_count": 2,
     "metadata": {},
     "output_type": "execute_result"
    }
   ],
   "source": [
    "#Voy a hacer un Data Frame con las columnas y sus correspondientes nulos:\n",
    "Col = df.columns.values #Sacamos los nombres de las columnas como una Lista\n",
    "Nul = df.isnull().sum().values #Sacamos la suma de los nulos en formato de Lista\n",
    "Nulp = np.around(((df.isnull().sum()/121220)*100).values, decimals = 2) #Sacamos el % de los nulos\n",
    "ListaTup = list(zip(Col, Nul, Nulp)) #compaginamos las tres listas de arriba \n",
    "ResNul = pd.DataFrame(ListaTup, columns = ['Columnas', 'Nulos', 'Nulos %']) #Armamos un df a partir de las listas compaginadas\n",
    "ResNul.index += 1 #Aumentamos en 1 el indice para ver claro cuantas columnas hay\n",
    "ResNul"
   ]
  },
  {
   "cell_type": "markdown",
   "metadata": {},
   "source": [
    "A partir de este punto analizamos cada columna por separado y decidimos si aportan datos de interés:"
   ]
  },
  {
   "cell_type": "markdown",
   "metadata": {},
   "source": [
    "### Unnamed: 0 :"
   ]
  },
  {
   "cell_type": "markdown",
   "metadata": {},
   "source": [
    "Es un índice común y corriente y va desde 0 a los 121219."
   ]
  },
  {
   "cell_type": "code",
   "execution_count": 3,
   "metadata": {},
   "outputs": [
    {
     "data": {
      "text/plain": [
       "count    121220.000000\n",
       "mean      60609.500000\n",
       "std       34993.344153\n",
       "min           0.000000\n",
       "25%       30304.750000\n",
       "50%       60609.500000\n",
       "75%       90914.250000\n",
       "max      121219.000000\n",
       "Name: Unnamed: 0, dtype: float64"
      ]
     },
     "execution_count": 3,
     "metadata": {},
     "output_type": "execute_result"
    }
   ],
   "source": [
    "df['Unnamed: 0'].describe()"
   ]
  },
  {
   "cell_type": "markdown",
   "metadata": {},
   "source": [
    "### operation :"
   ]
  },
  {
   "cell_type": "markdown",
   "metadata": {},
   "source": [
    "Es una columna que contiene el tipo de operación a realizar (Venta o Renta) en la esta base de datos solo figuran operaciones \"sell\""
   ]
  },
  {
   "cell_type": "code",
   "execution_count": 4,
   "metadata": {},
   "outputs": [
    {
     "data": {
      "text/plain": [
       "sell    121220\n",
       "Name: operation, dtype: int64"
      ]
     },
     "execution_count": 4,
     "metadata": {},
     "output_type": "execute_result"
    }
   ],
   "source": [
    "df['operation'].value_counts()"
   ]
  },
  {
   "cell_type": "markdown",
   "metadata": {},
   "source": [
    "### property_type :"
   ]
  },
  {
   "cell_type": "markdown",
   "metadata": {},
   "source": [
    "En esta columna contamos con los distintos tipos de propiedad, no se ven nulls a primera vista:"
   ]
  },
  {
   "cell_type": "code",
   "execution_count": 5,
   "metadata": {},
   "outputs": [
    {
     "data": {
      "text/plain": [
       "apartment    71065\n",
       "house        40268\n",
       "PH            5751\n",
       "store         4136\n",
       "Name: property_type, dtype: int64"
      ]
     },
     "execution_count": 5,
     "metadata": {},
     "output_type": "execute_result"
    }
   ],
   "source": [
    "df['property_type'].value_counts()"
   ]
  },
  {
   "cell_type": "markdown",
   "metadata": {},
   "source": [
    "### place_name :"
   ]
  },
  {
   "cell_type": "markdown",
   "metadata": {},
   "source": [
    "En esta columna vamos a encontrar los \"Barrios\" figuran 23 nulls salvables corresponden al barrio de \"Tigre\" sacado de \"place_with_parent_names\":"
   ]
  },
  {
   "cell_type": "code",
   "execution_count": 6,
   "metadata": {
    "scrolled": true
   },
   "outputs": [
    {
     "data": {
      "text/plain": [
       "6489     |Argentina|Bs.As. G.B.A. Zona Norte|Tigre||\n",
       "10201    |Argentina|Bs.As. G.B.A. Zona Norte|Tigre||\n",
       "11451    |Argentina|Bs.As. G.B.A. Zona Norte|Tigre||\n",
       "14839    |Argentina|Bs.As. G.B.A. Zona Norte|Tigre||\n",
       "18622    |Argentina|Bs.As. G.B.A. Zona Norte|Tigre||\n",
       "21922    |Argentina|Bs.As. G.B.A. Zona Norte|Tigre||\n",
       "23664    |Argentina|Bs.As. G.B.A. Zona Norte|Tigre||\n",
       "24722    |Argentina|Bs.As. G.B.A. Zona Norte|Tigre||\n",
       "38856    |Argentina|Bs.As. G.B.A. Zona Norte|Tigre||\n",
       "45970    |Argentina|Bs.As. G.B.A. Zona Norte|Tigre||\n",
       "46642    |Argentina|Bs.As. G.B.A. Zona Norte|Tigre||\n",
       "53130    |Argentina|Bs.As. G.B.A. Zona Norte|Tigre||\n",
       "55306    |Argentina|Bs.As. G.B.A. Zona Norte|Tigre||\n",
       "57703    |Argentina|Bs.As. G.B.A. Zona Norte|Tigre||\n",
       "57759    |Argentina|Bs.As. G.B.A. Zona Norte|Tigre||\n",
       "57764    |Argentina|Bs.As. G.B.A. Zona Norte|Tigre||\n",
       "57793    |Argentina|Bs.As. G.B.A. Zona Norte|Tigre||\n",
       "58004    |Argentina|Bs.As. G.B.A. Zona Norte|Tigre||\n",
       "58037    |Argentina|Bs.As. G.B.A. Zona Norte|Tigre||\n",
       "59069    |Argentina|Bs.As. G.B.A. Zona Norte|Tigre||\n",
       "62411    |Argentina|Bs.As. G.B.A. Zona Norte|Tigre||\n",
       "62413    |Argentina|Bs.As. G.B.A. Zona Norte|Tigre||\n",
       "63849    |Argentina|Bs.As. G.B.A. Zona Norte|Tigre||\n",
       "Name: place_with_parent_names, dtype: object"
      ]
     },
     "execution_count": 6,
     "metadata": {},
     "output_type": "execute_result"
    }
   ],
   "source": [
    "df[df.place_name.isnull()]['place_with_parent_names']"
   ]
  },
  {
   "cell_type": "markdown",
   "metadata": {},
   "source": [
    "### place_with_parent_names :"
   ]
  },
  {
   "cell_type": "markdown",
   "metadata": {},
   "source": [
    "Esta columna contiene la acumulación total de la información de ubicación de las propiedades, es una sumatoria entre \"place_name\" y \"state_name\":"
   ]
  },
  {
   "cell_type": "code",
   "execution_count": 7,
   "metadata": {},
   "outputs": [
    {
     "data": {
      "text/plain": [
       "0                |Argentina|Capital Federal|Mataderos|\n",
       "1          |Argentina|Bs.As. G.B.A. Zona Sur|La Plata|\n",
       "2                |Argentina|Capital Federal|Mataderos|\n",
       "3                  |Argentina|Capital Federal|Liniers|\n",
       "4    |Argentina|Buenos Aires Costa Atlántica|Mar de...\n",
       "Name: place_with_parent_names, dtype: object"
      ]
     },
     "execution_count": 7,
     "metadata": {},
     "output_type": "execute_result"
    }
   ],
   "source": [
    "df['place_with_parent_names'].head()"
   ]
  },
  {
   "cell_type": "markdown",
   "metadata": {},
   "source": [
    "### country_name :"
   ]
  },
  {
   "cell_type": "markdown",
   "metadata": {},
   "source": [
    "En esta columna figura el país al cual corresponde la propiedad, en la base que estamos trabajando, solo hay propiedades en argentina."
   ]
  },
  {
   "cell_type": "code",
   "execution_count": 8,
   "metadata": {},
   "outputs": [
    {
     "data": {
      "text/plain": [
       "Argentina    121220\n",
       "Name: country_name, dtype: int64"
      ]
     },
     "execution_count": 8,
     "metadata": {},
     "output_type": "execute_result"
    }
   ],
   "source": [
    "df['country_name'].value_counts()"
   ]
  },
  {
   "cell_type": "markdown",
   "metadata": {},
   "source": [
    "### state_name :"
   ]
  },
  {
   "cell_type": "markdown",
   "metadata": {},
   "source": [
    "En esta columna de ubicación, se da un orden superior de ubicación al de barrios como, Capital, Zonas aledañas a esta y provincias, a primera vista, la concentración de los primeros 8 renglones concentra el %95.4 de las propiedades:"
   ]
  },
  {
   "cell_type": "code",
   "execution_count": 9,
   "metadata": {
    "scrolled": true
   },
   "outputs": [
    {
     "data": {
      "text/plain": [
       "Capital Federal                 26.658967\n",
       "Bs.As. G.B.A. Zona Norte        21.085629\n",
       "Bs.As. G.B.A. Zona Sur          11.509652\n",
       "Córdoba                          9.956278\n",
       "Santa Fe                         8.391355\n",
       "Buenos Aires Costa Atlántica     8.254413\n",
       "Bs.As. G.B.A. Zona Oeste         7.690150\n",
       "Buenos Aires Interior            1.889952\n",
       "Río Negro                        0.666557\n",
       "Neuquén                          0.604686\n",
       "Mendoza                          0.561788\n",
       "Tucumán                          0.556014\n",
       "Corrientes                       0.480944\n",
       "Misiones                         0.382775\n",
       "Entre Ríos                       0.304405\n",
       "Salta                            0.229335\n",
       "Chubut                           0.213661\n",
       "San Luis                         0.207886\n",
       "La Pampa                         0.129517\n",
       "Formosa                          0.053622\n",
       "Chaco                            0.047022\n",
       "San Juan                         0.032998\n",
       "Tierra Del Fuego                 0.025573\n",
       "Catamarca                        0.022274\n",
       "Jujuy                            0.021449\n",
       "Santa Cruz                       0.016499\n",
       "La Rioja                         0.003300\n",
       "Santiago Del Estero              0.003300\n",
       "Name: state_name, dtype: float64"
      ]
     },
     "execution_count": 9,
     "metadata": {},
     "output_type": "execute_result"
    }
   ],
   "source": [
    "df.state_name.value_counts(normalize = True)*100"
   ]
  },
  {
   "cell_type": "markdown",
   "metadata": {},
   "source": [
    "### geonames_id :"
   ]
  },
  {
   "cell_type": "markdown",
   "metadata": {},
   "source": [
    "Información útil que nos serviría para validar las columnas de ubicación anteriores, lamentablemente tenemos muchos null, muchos de los cuales pueden ser salvados con la data suministrada en las próximas columnas de \"lat-lon\""
   ]
  },
  {
   "cell_type": "code",
   "execution_count": 10,
   "metadata": {},
   "outputs": [
    {
     "data": {
      "text/plain": [
       "(10532, 26)"
      ]
     },
     "execution_count": 10,
     "metadata": {},
     "output_type": "execute_result"
    }
   ],
   "source": [
    "df[(df['lat-lon'].notnull())&(df.geonames_id.isnull())].shape #Los nulls salvables con lat-lon"
   ]
  },
  {
   "cell_type": "markdown",
   "metadata": {},
   "source": [
    "### lat-lon,  lat y lon :"
   ]
  },
  {
   "cell_type": "markdown",
   "metadata": {},
   "source": [
    "En estas columnas, encontramos la ubicación con la latitud y la longitud de cada propiedad, podríamos tratar de cruzar información con la columna anterior, para completar algunos de sus nulos:"
   ]
  },
  {
   "cell_type": "markdown",
   "metadata": {},
   "source": [
    "### price, currency, price_aprox_local_currency y price_aprox_usd:"
   ]
  },
  {
   "cell_type": "markdown",
   "metadata": {},
   "source": [
    "En el caso de la columna \"price\" se colocó un valor que depende de la siguiente columna \"currency\" para saber de que moneda se esta hablando, la siguiente \"price_aprox_local_currency\" se limita a los $ARS en este caso, pero para tener un valor actualizable a estos días, podemos trabajar con \"price_aprox_usd\"\n",
    "Todas estas columnas comparten nulos, generando una zona vacía de información, dejándonos sin nulos salvable."
   ]
  },
  {
   "cell_type": "code",
   "execution_count": 11,
   "metadata": {},
   "outputs": [
    {
     "data": {
      "text/plain": [
       "(20410, 26)"
      ]
     },
     "execution_count": 11,
     "metadata": {},
     "output_type": "execute_result"
    }
   ],
   "source": [
    "df[(df.price.isnull())&(df.currency.isnull())&(df.price_aprox_local_currency.isnull())&(df.price_aprox_usd.isnull())].shape"
   ]
  },
  {
   "cell_type": "markdown",
   "metadata": {},
   "source": [
    "### surface_total_in_m2 y surface_covered_in_m2 :"
   ]
  },
  {
   "cell_type": "markdown",
   "metadata": {},
   "source": [
    "En estos casos en particular \"surface_total_in_m2\" tiene el doble de nulls que \"surface_covered_in_m2\" y son números grandes casi el 40%, una sugerencia seria sacar una relación ya que la cantidad de nulls que comparten es solo del 10.2%. Para sacar la relación, primero agruparía según el tipo de propiedad."
   ]
  },
  {
   "cell_type": "code",
   "execution_count": 12,
   "metadata": {},
   "outputs": [
    {
     "data": {
      "text/plain": [
       "(12369, 26)"
      ]
     },
     "execution_count": 12,
     "metadata": {},
     "output_type": "execute_result"
    }
   ],
   "source": [
    "df[(df.surface_total_in_m2.isnull())&(df.surface_covered_in_m2 .isnull())].shape"
   ]
  },
  {
   "cell_type": "markdown",
   "metadata": {},
   "source": [
    "### price_usd_per_m2 y price_per_m2 :"
   ]
  },
  {
   "cell_type": "markdown",
   "metadata": {},
   "source": [
    "En el caso de estas columnas se verifico que no aporten nada ni a las columnas de precios ni a las de superficies:"
   ]
  },
  {
   "cell_type": "code",
   "execution_count": 13,
   "metadata": {},
   "outputs": [
    {
     "data": {
      "text/plain": [
       "(0, 26)"
      ]
     },
     "execution_count": 13,
     "metadata": {},
     "output_type": "execute_result"
    }
   ],
   "source": [
    "df[(df.price.isnull())&\\\n",
    "   (df.currency.isnull())&\\\n",
    "   (df.price_aprox_local_currency.isnull())&\\\n",
    "   (df.price_aprox_usd.isnull())&\\\n",
    "   (df.price_usd_per_m2.notnull())&\\\n",
    "   (df.price_per_m2.notnull())].shape"
   ]
  },
  {
   "cell_type": "code",
   "execution_count": 14,
   "metadata": {},
   "outputs": [
    {
     "data": {
      "text/plain": [
       "(0, 26)"
      ]
     },
     "execution_count": 14,
     "metadata": {},
     "output_type": "execute_result"
    }
   ],
   "source": [
    "df[(df.surface_total_in_m2.isnull())&\\\n",
    "   (df.price_usd_per_m2.isnull())&\\\n",
    "   (df.price_usd_per_m2.notnull())&\\\n",
    "   (df.price_per_m2.notnull())].shape"
   ]
  },
  {
   "cell_type": "markdown",
   "metadata": {},
   "source": [
    "### floor :"
   ]
  },
  {
   "cell_type": "markdown",
   "metadata": {},
   "source": [
    "La principal problemática con esta columna es lo vacía que se encuentra, con un 93% de nulls depende exclusivamente de lo extraído por expresiones regulares en la columna de 'description' y en 'title'\n",
    "Habría que diferenciar en cuanto a piso de dpto y a planta de casas."
   ]
  },
  {
   "cell_type": "markdown",
   "metadata": {},
   "source": [
    "### rooms :"
   ]
  },
  {
   "cell_type": "markdown",
   "metadata": {},
   "source": [
    "Similar a 'floor' salvo que la hay menos nulls solo un 61%, igual cuenta con una alta cuota de outliers, de esta forma se descubrió la venta de varios dptos en una sola publicación, estos casos son insalvables."
   ]
  },
  {
   "cell_type": "markdown",
   "metadata": {},
   "source": [
    "### expenses :"
   ]
  },
  {
   "cell_type": "markdown",
   "metadata": {},
   "source": [
    "Esta columna seguiría la misma línea que 'floor' y 'rooms' en mi opinión particular dada la falta de detalles, como si están evaluadas en pesos o en dólares por ejemplo la descartaría o le daría prioridad a las columnas anteriores. De nuevo habrá que ver que aporta lo de regex"
   ]
  },
  {
   "cell_type": "markdown",
   "metadata": {},
   "source": [
    "### properati_url y image_thumbnail :"
   ]
  },
  {
   "cell_type": "markdown",
   "metadata": {},
   "source": [
    "Estas dos columnas carecen de contenido útil."
   ]
  },
  {
   "cell_type": "markdown",
   "metadata": {},
   "source": [
    "### title y description :"
   ]
  },
  {
   "cell_type": "markdown",
   "metadata": {},
   "source": [
    "Fuente de información para otras columnas, como ya se habló, se les pasaría el filtro Eyal, para que las RE trabajen mejor."
   ]
  }
 ],
 "metadata": {
  "kernelspec": {
   "display_name": "Python 3",
   "language": "python",
   "name": "python3"
  },
  "language_info": {
   "codemirror_mode": {
    "name": "ipython",
    "version": 3
   },
   "file_extension": ".py",
   "mimetype": "text/x-python",
   "name": "python",
   "nbconvert_exporter": "python",
   "pygments_lexer": "ipython3",
   "version": "3.7.3"
  }
 },
 "nbformat": 4,
 "nbformat_minor": 2
}
