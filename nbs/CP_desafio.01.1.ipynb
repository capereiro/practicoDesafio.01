{
 "cells": [
  {
   "cell_type": "markdown",
   "metadata": {},
   "source": [
    "# Desafío 01"
   ]
  },
  {
   "cell_type": "markdown",
   "metadata": {},
   "source": [
    "* Importación de librerías\n",
    "* astype()"
   ]
  },
  {
   "cell_type": "code",
   "execution_count": 28,
   "metadata": {},
   "outputs": [],
   "source": [
    "import pandas as pd\n",
    "import numpy as np\n",
    "import re as re"
   ]
  },
  {
   "cell_type": "code",
   "execution_count": 2,
   "metadata": {},
   "outputs": [],
   "source": [
    "# Para ver el contenido total de las columnas\n",
    "\n",
    "pd.set_option('display.max_colwidth', -1)\n",
    "#pd.set_option(\"display.max_columns\", len(properatti.columns))"
   ]
  },
  {
   "cell_type": "code",
   "execution_count": 3,
   "metadata": {},
   "outputs": [],
   "source": [
    "df = pd.DataFrame(pd.read_csv(\"data/properatti.csv\", encoding='UTF-8'))\n",
    "\n",
    "\n",
    "#!head nombreArchivo.cvs --> comando de linux para ver las 5 primeras lineas. Se puede utilizar para ver como estan separados los datos"
   ]
  },
  {
   "cell_type": "code",
   "execution_count": null,
   "metadata": {},
   "outputs": [],
   "source": [
    "df.info(verbose=None, null_counts=True)"
   ]
  },
  {
   "cell_type": "code",
   "execution_count": 4,
   "metadata": {
    "scrolled": false
   },
   "outputs": [
    {
     "data": {
      "text/plain": [
       "90310    Casa en PH al frente ubicada en barrio Colón.Ideal inversión para renta.Con escritura \n",
       "Name: description, dtype: object"
      ]
     },
     "execution_count": 4,
     "metadata": {},
     "output_type": "execute_result"
    }
   ],
   "source": [
    "df.sample(1)['description']"
   ]
  },
  {
   "cell_type": "markdown",
   "metadata": {},
   "source": [
    "* Información de las columnas"
   ]
  },
  {
   "cell_type": "code",
   "execution_count": null,
   "metadata": {},
   "outputs": [],
   "source": [
    "# Busqueda de NaNs\n",
    "df[pd.isnull(df['description'])]\n"
   ]
  },
  {
   "cell_type": "markdown",
   "metadata": {},
   "source": [
    "### Reemplazo de NaN's\n",
    "Esto se realiza porque la función de búsqueda explotaba "
   ]
  },
  {
   "cell_type": "code",
   "execution_count": 9,
   "metadata": {},
   "outputs": [
    {
     "data": {
      "text/html": [
       "<div>\n",
       "<style scoped>\n",
       "    .dataframe tbody tr th:only-of-type {\n",
       "        vertical-align: middle;\n",
       "    }\n",
       "\n",
       "    .dataframe tbody tr th {\n",
       "        vertical-align: top;\n",
       "    }\n",
       "\n",
       "    .dataframe thead th {\n",
       "        text-align: right;\n",
       "    }\n",
       "</style>\n",
       "<table border=\"1\" class=\"dataframe\">\n",
       "  <thead>\n",
       "    <tr style=\"text-align: right;\">\n",
       "      <th></th>\n",
       "      <th>Unnamed: 0</th>\n",
       "      <th>operation</th>\n",
       "      <th>property_type</th>\n",
       "      <th>place_name</th>\n",
       "      <th>place_with_parent_names</th>\n",
       "      <th>country_name</th>\n",
       "      <th>state_name</th>\n",
       "      <th>geonames_id</th>\n",
       "      <th>lat-lon</th>\n",
       "      <th>lat</th>\n",
       "      <th>...</th>\n",
       "      <th>surface_covered_in_m2</th>\n",
       "      <th>price_usd_per_m2</th>\n",
       "      <th>price_per_m2</th>\n",
       "      <th>floor</th>\n",
       "      <th>rooms</th>\n",
       "      <th>expenses</th>\n",
       "      <th>properati_url</th>\n",
       "      <th>description</th>\n",
       "      <th>title</th>\n",
       "      <th>image_thumbnail</th>\n",
       "    </tr>\n",
       "  </thead>\n",
       "  <tbody>\n",
       "    <tr>\n",
       "      <th>0</th>\n",
       "      <td>0</td>\n",
       "      <td>sell</td>\n",
       "      <td>PH</td>\n",
       "      <td>Mataderos</td>\n",
       "      <td>|Argentina|Capital Federal|Mataderos|</td>\n",
       "      <td>Argentina</td>\n",
       "      <td>Capital Federal</td>\n",
       "      <td>3.43079e+06</td>\n",
       "      <td>-34.6618237,-58.5088387</td>\n",
       "      <td>-34.6618</td>\n",
       "      <td>...</td>\n",
       "      <td>40</td>\n",
       "      <td>1127.27</td>\n",
       "      <td>1550</td>\n",
       "      <td>sin-dato</td>\n",
       "      <td>sin-dato</td>\n",
       "      <td>sin-dato</td>\n",
       "      <td>http://www.properati.com.ar/15bo8_venta_ph_mataderos_lavadero_patio_inmobiliaria-fedele</td>\n",
       "      <td>2 AMBIENTES TIPO CASA PLANTA BAJA POR PASILLO, REFACCIONADO A NUEVO, PATIO GRANDE, CON LAVADERO, LIVING COMEDOR CON COCINA INTEGRADA, ARTEFACTO DE COCINA, ALACENA, BAÑO COMPLETO, Y DORMITORIO. TODO EN EXCELENTE ESTADO, PARA HABITAR.NO ES APTO CREDITO Aviso publicado por Pixel Inmobiliario (Servicio de Páginas Web para Inmobiliarias).</td>\n",
       "      <td>2 AMB TIPO CASA SIN EXPENSAS EN PB</td>\n",
       "      <td>https://thumbs4.properati.com/8/BluUYiHJLhgIIKufMJMwHtquzhk=/trim/198x0/smart/filters:strip_icc()/inmobiliariafedele.com/photos/CARHUE%202278-IMG_3400.JPG</td>\n",
       "    </tr>\n",
       "    <tr>\n",
       "      <th>1</th>\n",
       "      <td>1</td>\n",
       "      <td>sell</td>\n",
       "      <td>apartment</td>\n",
       "      <td>La Plata</td>\n",
       "      <td>|Argentina|Bs.As. G.B.A. Zona Sur|La Plata|</td>\n",
       "      <td>Argentina</td>\n",
       "      <td>Bs.As. G.B.A. Zona Sur</td>\n",
       "      <td>3.43204e+06</td>\n",
       "      <td>-34.9038831,-57.9643295</td>\n",
       "      <td>-34.9039</td>\n",
       "      <td>...</td>\n",
       "      <td>sin-dato</td>\n",
       "      <td>sin-dato</td>\n",
       "      <td>sin-dato</td>\n",
       "      <td>sin-dato</td>\n",
       "      <td>sin-dato</td>\n",
       "      <td>sin-dato</td>\n",
       "      <td>http://www.properati.com.ar/15bob_venta_departamentos_la-plata_balcon_lavadero_toilette_garage_estrenar_antonini-propiedades_dcp</td>\n",
       "      <td>Venta de departamento en décimo piso al frente, a estrenar. Living comedor con ventanales hacia el balcón con pisos de madera. Cocina completa con doble mesada, muebles bajo mesada. Lavadero separado. Toilette.Dormitorio con placard. Segundo dormitorio a dividir. Calefacción por radiadorBaño completo.Balcón corrido. Posibilidad de cochera semicubierta. U$D 20.000                     Aviso publicado por Pixel Inmobiliario (Servicio de Páginas Web para Inmobiliarias).</td>\n",
       "      <td>VENTA Depto 2 dorm. a estrenar 7 e/ 36 y 37</td>\n",
       "      <td>https://thumbs4.properati.com/7/ikpVBu2ztHA7jv45KAKirGL3JM8=/trim/198x0/smart/filters:strip_icc()/antoninipropiedades.com/photos/401-1-7%20y%2037%2010A%201.jpg</td>\n",
       "    </tr>\n",
       "  </tbody>\n",
       "</table>\n",
       "<p>2 rows × 26 columns</p>\n",
       "</div>"
      ],
      "text/plain": [
       "   Unnamed: 0 operation property_type place_name  \\\n",
       "0  0           sell      PH            Mataderos   \n",
       "1  1           sell      apartment     La Plata    \n",
       "\n",
       "                       place_with_parent_names country_name  \\\n",
       "0  |Argentina|Capital Federal|Mataderos|        Argentina     \n",
       "1  |Argentina|Bs.As. G.B.A. Zona Sur|La Plata|  Argentina     \n",
       "\n",
       "               state_name  geonames_id                  lat-lon      lat  ...  \\\n",
       "0  Capital Federal         3.43079e+06  -34.6618237,-58.5088387 -34.6618  ...   \n",
       "1  Bs.As. G.B.A. Zona Sur  3.43204e+06  -34.9038831,-57.9643295 -34.9039  ...   \n",
       "\n",
       "  surface_covered_in_m2 price_usd_per_m2 price_per_m2     floor     rooms  \\\n",
       "0  40                    1127.27          1550         sin-dato  sin-dato   \n",
       "1  sin-dato              sin-dato         sin-dato     sin-dato  sin-dato   \n",
       "\n",
       "   expenses  \\\n",
       "0  sin-dato   \n",
       "1  sin-dato   \n",
       "\n",
       "                                                                                                                      properati_url  \\\n",
       "0  http://www.properati.com.ar/15bo8_venta_ph_mataderos_lavadero_patio_inmobiliaria-fedele                                            \n",
       "1  http://www.properati.com.ar/15bob_venta_departamentos_la-plata_balcon_lavadero_toilette_garage_estrenar_antonini-propiedades_dcp   \n",
       "\n",
       "                                                                                                                                                                                                                                                                                                                                                                                                                                                                              description  \\\n",
       "0  2 AMBIENTES TIPO CASA PLANTA BAJA POR PASILLO, REFACCIONADO A NUEVO, PATIO GRANDE, CON LAVADERO, LIVING COMEDOR CON COCINA INTEGRADA, ARTEFACTO DE COCINA, ALACENA, BAÑO COMPLETO, Y DORMITORIO. TODO EN EXCELENTE ESTADO, PARA HABITAR.NO ES APTO CREDITO Aviso publicado por Pixel Inmobiliario (Servicio de Páginas Web para Inmobiliarias).                                                                                                                                          \n",
       "1  Venta de departamento en décimo piso al frente, a estrenar. Living comedor con ventanales hacia el balcón con pisos de madera. Cocina completa con doble mesada, muebles bajo mesada. Lavadero separado. Toilette.Dormitorio con placard. Segundo dormitorio a dividir. Calefacción por radiadorBaño completo.Balcón corrido. Posibilidad de cochera semicubierta. U$D 20.000                     Aviso publicado por Pixel Inmobiliario (Servicio de Páginas Web para Inmobiliarias).   \n",
       "\n",
       "                                                        title  \\\n",
       "0  2 AMB TIPO CASA SIN EXPENSAS EN PB                           \n",
       "1  VENTA Depto 2 dorm. a estrenar 7 e/ 36 y 37                  \n",
       "\n",
       "                                                                                                                                                   image_thumbnail  \n",
       "0  https://thumbs4.properati.com/8/BluUYiHJLhgIIKufMJMwHtquzhk=/trim/198x0/smart/filters:strip_icc()/inmobiliariafedele.com/photos/CARHUE%202278-IMG_3400.JPG       \n",
       "1  https://thumbs4.properati.com/7/ikpVBu2ztHA7jv45KAKirGL3JM8=/trim/198x0/smart/filters:strip_icc()/antoninipropiedades.com/photos/401-1-7%20y%2037%2010A%201.jpg  \n",
       "\n",
       "[2 rows x 26 columns]"
      ]
     },
     "execution_count": 9,
     "metadata": {},
     "output_type": "execute_result"
    }
   ],
   "source": [
    "df_a1=df.replace(np.nan,'sin-dato')\n",
    "df_a1.head(2)"
   ]
  },
  {
   "cell_type": "code",
   "execution_count": null,
   "metadata": {},
   "outputs": [],
   "source": [
    "pd.set_option('display.max_colwidth', -2)"
   ]
  },
  {
   "cell_type": "code",
   "execution_count": null,
   "metadata": {},
   "outputs": [],
   "source": [
    "df_a1.iloc[45:46]['description']"
   ]
  },
  {
   "cell_type": "markdown",
   "metadata": {},
   "source": [
    "### Pattern"
   ]
  },
  {
   "cell_type": "code",
   "execution_count": 16,
   "metadata": {},
   "outputs": [],
   "source": [
    "# Comentar lo que no se deba ejecutar\n",
    "\n",
    "#pattern = r'(\\d+)\\s[m]2' # Patron para buscar metros cuadrados (m2)\n",
    "pattern = r'(\\d*\\w*)\\s*amb'  # Patron para buscar metros ambientes\n",
    "#pattern = r'(\\d*)\\s?\\b[aA]mbientes\\w*'\n",
    "#pattern = r'(\\d*\\w*)\\s*usd'\n",
    "#pattern = r'(\\d*\\w*)\\s*habitacion|(\\d*\\w*)\\s?cuarto|(\\d*\\w*)\\s?dorm|(\\d*\\w*)\\s?pieza'"
   ]
  },
  {
   "cell_type": "code",
   "execution_count": 17,
   "metadata": {},
   "outputs": [],
   "source": [
    "regex = re.compile(pattern, flags = re.IGNORECASE)"
   ]
  },
  {
   "cell_type": "markdown",
   "metadata": {},
   "source": [
    "### Pruebas de campos"
   ]
  },
  {
   "cell_type": "code",
   "execution_count": null,
   "metadata": {},
   "outputs": [],
   "source": [
    "df.iloc[55476]['description']"
   ]
  },
  {
   "cell_type": "markdown",
   "metadata": {},
   "source": [
    "### Funciones"
   ]
  },
  {
   "cell_type": "code",
   "execution_count": 18,
   "metadata": {},
   "outputs": [],
   "source": [
    "# Busca claves segun pattern en columna dentro de dataFrame \n",
    "# Entrada: pattern, columna, df\n",
    "# Salida: DataFrame\n",
    "\n",
    "def busca_claves(pattern, columna, df_aux):\n",
    "    regex = re.compile(pattern, flags = re.IGNORECASE)\n",
    "    m = pd.DataFrame([regex.findall(n) for n in df_aux[columna].head(100)])\n",
    "    return m[0]"
   ]
  },
  {
   "cell_type": "code",
   "execution_count": 7,
   "metadata": {},
   "outputs": [],
   "source": [
    "def existe_clave(key, columna, df_aux):    \n",
    "    m = []\n",
    "    for frase in df_aux[columna]:\n",
    "        if key in frase:\n",
    "            m.append(True)\n",
    "        else:\n",
    "            m.append(False)\n",
    "    return sum(m)\n"
   ]
  },
  {
   "cell_type": "code",
   "execution_count": null,
   "metadata": {},
   "outputs": [],
   "source": []
  },
  {
   "cell_type": "code",
   "execution_count": 12,
   "metadata": {},
   "outputs": [
    {
     "data": {
      "text/plain": [
       "19348"
      ]
     },
     "execution_count": 12,
     "metadata": {},
     "output_type": "execute_result"
    }
   ],
   "source": [
    "existe_clave(\"$\",\"description\",df_a1)\n"
   ]
  },
  {
   "cell_type": "markdown",
   "metadata": {},
   "source": [
    "### Concatenar DFs"
   ]
  },
  {
   "cell_type": "code",
   "execution_count": null,
   "metadata": {},
   "outputs": [],
   "source": [
    "pd.concat([df3, df4], axis='columns')"
   ]
  },
  {
   "cell_type": "markdown",
   "metadata": {},
   "source": [
    "### TESTING Regex"
   ]
  },
  {
   "cell_type": "markdown",
   "metadata": {},
   "source": []
  },
  {
   "cell_type": "code",
   "execution_count": 30,
   "metadata": {},
   "outputs": [],
   "source": [
    "df1 = busca_claves(pattern,'description',df_a1)\n",
    "#df1 = busca_claves(pattern,'description',df_a1)\n",
    "#df2 = busca_claves(pattern,'title',df_a1)"
   ]
  },
  {
   "cell_type": "code",
   "execution_count": null,
   "metadata": {},
   "outputs": [],
   "source": [
    "prod.apply(lambda x: pd.api.types.infer_dtype(x.values))"
   ]
  },
  {
   "cell_type": "code",
   "execution_count": null,
   "metadata": {},
   "outputs": [],
   "source": []
  },
  {
   "cell_type": "code",
   "execution_count": null,
   "metadata": {},
   "outputs": [],
   "source": []
  },
  {
   "cell_type": "code",
   "execution_count": null,
   "metadata": {},
   "outputs": [],
   "source": []
  },
  {
   "cell_type": "code",
   "execution_count": 39,
   "metadata": {},
   "outputs": [
    {
     "data": {
      "text/plain": [
       "0     2         \n",
       "1     None      \n",
       "2     2         \n",
       "3     3         \n",
       "4     None      \n",
       "5     None      \n",
       "6     None      \n",
       "7     MONO      \n",
       "8     DOS       \n",
       "9     None      \n",
       "10    None      \n",
       "11    1         \n",
       "12    2         \n",
       "13    3         \n",
       "14              \n",
       "15    None      \n",
       "16    4         \n",
       "17    3         \n",
       "18    los       \n",
       "19    t         \n",
       "20    None      \n",
       "21    None      \n",
       "22    los       \n",
       "23    t         \n",
       "24    4         \n",
       "25    4         \n",
       "26    None      \n",
       "27    None      \n",
       "28    4         \n",
       "29    sus       \n",
       "     ...        \n",
       "70    2         \n",
       "71    3         \n",
       "72    1         \n",
       "73    None      \n",
       "74    Mono      \n",
       "75    JACHALTRES\n",
       "76    None      \n",
       "77    3         \n",
       "78    None      \n",
       "79    monom     \n",
       "80    None      \n",
       "81    2         \n",
       "82    1         \n",
       "83    None      \n",
       "84    None      \n",
       "85    None      \n",
       "86    None      \n",
       "87    None      \n",
       "88    None      \n",
       "89    None      \n",
       "90    None      \n",
       "91    None      \n",
       "92    None      \n",
       "93    None      \n",
       "94    None      \n",
       "95    None      \n",
       "96    2         \n",
       "97    2         \n",
       "98    2         \n",
       "99    None      \n",
       "Name: 0, Length: 100, dtype: object"
      ]
     },
     "execution_count": 39,
     "metadata": {},
     "output_type": "execute_result"
    }
   ],
   "source": [
    "df1 = busca_claves(pattern,'description',df_a1)\n",
    "\n",
    "#[isinstance(elem, int) for elem in df1]\n",
    "\n",
    "df1"
   ]
  },
  {
   "cell_type": "code",
   "execution_count": 53,
   "metadata": {},
   "outputs": [
    {
     "data": {
      "text/plain": [
       "0     (, , Y, )       \n",
       "1     (, , , )        \n",
       "2     (, , Y, )       \n",
       "3     None            \n",
       "4     (, , 1, )       \n",
       "5     (, , dos, )     \n",
       "6     (, , DOS, )     \n",
       "7     None            \n",
       "8     None            \n",
       "9     (, , PATIO2, )  \n",
       "10    (, , 3, )       \n",
       "11    (, , 2, )       \n",
       "12    (, , 30, )      \n",
       "13    None            \n",
       "14    None            \n",
       "15    (, , 3, )       \n",
       "16    (, , 3, )       \n",
       "17    (, , , )        \n",
       "18    (, , tres, )    \n",
       "19    (, , Segundo, ) \n",
       "20    (, , cuatro, )  \n",
       "21    None            \n",
       "22    (, , 3, )       \n",
       "23    (, , 1, )       \n",
       "24    (, , 3, )       \n",
       "25    (, y, , )       \n",
       "26    (, , dos, )     \n",
       "27    None            \n",
       "28    (, , 3, )       \n",
       "29    (, , al, )      \n",
       "         ...          \n",
       "70    (, , DUCHA, )   \n",
       "71    (, , DUCHA, )   \n",
       "72    None            \n",
       "73    (, , 2, )       \n",
       "74    None            \n",
       "75    (, , LAVADERO, )\n",
       "76    (, , 3, )       \n",
       "77    (, , dos, )     \n",
       "78    (, , 3, )       \n",
       "79    None            \n",
       "80    None            \n",
       "81    (, , , )        \n",
       "82    None            \n",
       "83    (, , dos, )     \n",
       "84    (, , 2, )       \n",
       "85    (, , 1, )       \n",
       "86    (, , DOS, )     \n",
       "87    (, , 3, )       \n",
       "88    (, , 1, )       \n",
       "89    (, , 1, )       \n",
       "90    (, , 1, )       \n",
       "91    None            \n",
       "92    (, , 2, )       \n",
       "93    (, , 4, )       \n",
       "94    (, , 2, )       \n",
       "95    (, , 1, )       \n",
       "96    (, , el, )      \n",
       "97    None            \n",
       "98    None            \n",
       "99    (, , DOS, )     \n",
       "Name: 0, Length: 100, dtype: object"
      ]
     },
     "execution_count": 53,
     "metadata": {},
     "output_type": "execute_result"
    }
   ],
   "source": [
    "df1[]"
   ]
  },
  {
   "cell_type": "code",
   "execution_count": null,
   "metadata": {},
   "outputs": [],
   "source": []
  },
  {
   "cell_type": "code",
   "execution_count": null,
   "metadata": {},
   "outputs": [],
   "source": []
  },
  {
   "cell_type": "markdown",
   "metadata": {},
   "source": [
    "# SIN USO"
   ]
  },
  {
   "cell_type": "code",
   "execution_count": null,
   "metadata": {},
   "outputs": [],
   "source": [
    "#tmp_df = df[\"cases\"].str.extract(\"([a-z])([0-9]+)([0-9]{2})\",expand=True) \n",
    "tmp_df = df[\"description\"].str.extract(\"((\\d*)\\s?\\b[aA]mb\\w*)\",expand=True) \n",
    "tmp_df.dropna(axis=0)"
   ]
  },
  {
   "cell_type": "code",
   "execution_count": 13,
   "metadata": {},
   "outputs": [
    {
     "ename": "NameError",
     "evalue": "name 'regex' is not defined",
     "output_type": "error",
     "traceback": [
      "\u001b[0;31m---------------------------------------------------------------------------\u001b[0m",
      "\u001b[0;31mNameError\u001b[0m                                 Traceback (most recent call last)",
      "\u001b[0;32m<ipython-input-13-9da9acaaac93>\u001b[0m in \u001b[0;36m<module>\u001b[0;34m\u001b[0m\n\u001b[1;32m      7\u001b[0m \u001b[0;34m\u001b[0m\u001b[0m\n\u001b[1;32m      8\u001b[0m \u001b[0;31m#m = pd.DataFrame([regex.findall(n) for n in df_a1['description'].head(10)], columns=[\"ambientes\"] )\u001b[0m\u001b[0;34m\u001b[0m\u001b[0;34m\u001b[0m\u001b[0;34m\u001b[0m\u001b[0m\n\u001b[0;32m----> 9\u001b[0;31m \u001b[0mm\u001b[0m \u001b[0;34m=\u001b[0m \u001b[0mpd\u001b[0m\u001b[0;34m.\u001b[0m\u001b[0mDataFrame\u001b[0m\u001b[0;34m(\u001b[0m\u001b[0;34m[\u001b[0m\u001b[0mregex\u001b[0m\u001b[0;34m.\u001b[0m\u001b[0mfindall\u001b[0m\u001b[0;34m(\u001b[0m\u001b[0mn\u001b[0m\u001b[0;34m)\u001b[0m \u001b[0;32mfor\u001b[0m \u001b[0mn\u001b[0m \u001b[0;32min\u001b[0m \u001b[0mdf_a1\u001b[0m\u001b[0;34m[\u001b[0m\u001b[0;34m'description'\u001b[0m\u001b[0;34m]\u001b[0m\u001b[0;34m.\u001b[0m\u001b[0mhead\u001b[0m\u001b[0;34m(\u001b[0m\u001b[0;36m50\u001b[0m\u001b[0;34m)\u001b[0m\u001b[0;34m]\u001b[0m\u001b[0;34m)\u001b[0m\u001b[0;34m\u001b[0m\u001b[0;34m\u001b[0m\u001b[0m\n\u001b[0m\u001b[1;32m     10\u001b[0m \u001b[0;31m#m = pd.DataFrame([regex.findall(n) for n in df_a1['description']])\u001b[0m\u001b[0;34m\u001b[0m\u001b[0;34m\u001b[0m\u001b[0;34m\u001b[0m\u001b[0m\n\u001b[1;32m     11\u001b[0m \u001b[0mdisplay\u001b[0m\u001b[0;34m(\u001b[0m\u001b[0mlen\u001b[0m\u001b[0;34m(\u001b[0m\u001b[0mm\u001b[0m\u001b[0;34m)\u001b[0m\u001b[0;34m)\u001b[0m\u001b[0;34m\u001b[0m\u001b[0;34m\u001b[0m\u001b[0m\n",
      "\u001b[0;32m<ipython-input-13-9da9acaaac93>\u001b[0m in \u001b[0;36m<listcomp>\u001b[0;34m(.0)\u001b[0m\n\u001b[1;32m      7\u001b[0m \u001b[0;34m\u001b[0m\u001b[0m\n\u001b[1;32m      8\u001b[0m \u001b[0;31m#m = pd.DataFrame([regex.findall(n) for n in df_a1['description'].head(10)], columns=[\"ambientes\"] )\u001b[0m\u001b[0;34m\u001b[0m\u001b[0;34m\u001b[0m\u001b[0;34m\u001b[0m\u001b[0m\n\u001b[0;32m----> 9\u001b[0;31m \u001b[0mm\u001b[0m \u001b[0;34m=\u001b[0m \u001b[0mpd\u001b[0m\u001b[0;34m.\u001b[0m\u001b[0mDataFrame\u001b[0m\u001b[0;34m(\u001b[0m\u001b[0;34m[\u001b[0m\u001b[0mregex\u001b[0m\u001b[0;34m.\u001b[0m\u001b[0mfindall\u001b[0m\u001b[0;34m(\u001b[0m\u001b[0mn\u001b[0m\u001b[0;34m)\u001b[0m \u001b[0;32mfor\u001b[0m \u001b[0mn\u001b[0m \u001b[0;32min\u001b[0m \u001b[0mdf_a1\u001b[0m\u001b[0;34m[\u001b[0m\u001b[0;34m'description'\u001b[0m\u001b[0;34m]\u001b[0m\u001b[0;34m.\u001b[0m\u001b[0mhead\u001b[0m\u001b[0;34m(\u001b[0m\u001b[0;36m50\u001b[0m\u001b[0;34m)\u001b[0m\u001b[0;34m]\u001b[0m\u001b[0;34m)\u001b[0m\u001b[0;34m\u001b[0m\u001b[0;34m\u001b[0m\u001b[0m\n\u001b[0m\u001b[1;32m     10\u001b[0m \u001b[0;31m#m = pd.DataFrame([regex.findall(n) for n in df_a1['description']])\u001b[0m\u001b[0;34m\u001b[0m\u001b[0;34m\u001b[0m\u001b[0;34m\u001b[0m\u001b[0m\n\u001b[1;32m     11\u001b[0m \u001b[0mdisplay\u001b[0m\u001b[0;34m(\u001b[0m\u001b[0mlen\u001b[0m\u001b[0;34m(\u001b[0m\u001b[0mm\u001b[0m\u001b[0;34m)\u001b[0m\u001b[0;34m)\u001b[0m\u001b[0;34m\u001b[0m\u001b[0;34m\u001b[0m\u001b[0m\n",
      "\u001b[0;31mNameError\u001b[0m: name 'regex' is not defined"
     ]
    }
   ],
   "source": [
    "# TEST: Regex de prueba. Alimenta un DF con el resultado\n",
    "# CONDICION: No lee NaN's\n",
    "# NOTA: Me di cuenta que REGEX analiza todo el str y en muchos casos detecta la KEY en varias partes del \n",
    "#   str, ergo, al capturar el siguiente dato, lo incluye dentro de una lista y eso lo representa en otra columna\n",
    "#   Entonces ponerle nombre a una única columna no tendría sentido. Si verificamos con .head(10) no vamos\n",
    "#   a tener problemas porque justo las 10 primeras filas no tienen mas de una KEY en el str a analizar...\n",
    "\n",
    "#m = pd.DataFrame([regex.findall(n) for n in df_a1['description'].head(10)], columns=[\"ambientes\"] )\n",
    "m = pd.DataFrame([regex.findall(n) for n in df_a1['description'].head(50)])\n",
    "#m = pd.DataFrame([regex.findall(n) for n in df_a1['description']])\n",
    "display(len(m))\n",
    "#m\n",
    "m[0]\n"
   ]
  },
  {
   "cell_type": "code",
   "execution_count": null,
   "metadata": {},
   "outputs": [],
   "source": []
  },
  {
   "cell_type": "code",
   "execution_count": null,
   "metadata": {},
   "outputs": [],
   "source": []
  },
  {
   "cell_type": "code",
   "execution_count": null,
   "metadata": {},
   "outputs": [],
   "source": []
  },
  {
   "cell_type": "code",
   "execution_count": null,
   "metadata": {},
   "outputs": [],
   "source": []
  },
  {
   "cell_type": "code",
   "execution_count": null,
   "metadata": {},
   "outputs": [],
   "source": []
  },
  {
   "cell_type": "code",
   "execution_count": 38,
   "metadata": {},
   "outputs": [
    {
     "data": {
      "text/plain": [
       "3"
      ]
     },
     "execution_count": 38,
     "metadata": {},
     "output_type": "execute_result"
    }
   ],
   "source": [
    "# Para pasar una linea a un tipo en particular:\n",
    "\n",
    "c = \"1\"\n",
    "pd.to_numeric(c,int)"
   ]
  },
  {
   "cell_type": "code",
   "execution_count": null,
   "metadata": {},
   "outputs": [],
   "source": []
  }
 ],
 "metadata": {
  "kernelspec": {
   "display_name": "Python 3",
   "language": "python",
   "name": "python3"
  },
  "language_info": {
   "codemirror_mode": {
    "name": "ipython",
    "version": 3
   },
   "file_extension": ".py",
   "mimetype": "text/x-python",
   "name": "python",
   "nbconvert_exporter": "python",
   "pygments_lexer": "ipython3",
   "version": "3.7.3"
  }
 },
 "nbformat": 4,
 "nbformat_minor": 2
}
