{
 "cells": [
  {
   "cell_type": "markdown",
   "metadata": {},
   "source": [
    "# Desafío 01"
   ]
  },
  {
   "cell_type": "markdown",
   "metadata": {},
   "source": [
    "* Importación de librerías\n",
    "* astype()"
   ]
  },
  {
   "cell_type": "code",
   "execution_count": null,
   "metadata": {
    "scrolled": true
   },
   "outputs": [],
   "source": [
    "#!pip install unidecode\n"
   ]
  },
  {
   "cell_type": "code",
   "execution_count": 1,
   "metadata": {},
   "outputs": [],
   "source": [
    "import pandas as pd\n",
    "import numpy as np\n",
    "import re as re\n",
    "import unidecode"
   ]
  },
  {
   "cell_type": "code",
   "execution_count": 2,
   "metadata": {},
   "outputs": [],
   "source": [
    "# Para ver el contenido total de las columnas\n",
    "\n",
    "pd.set_option('display.max_colwidth', -1)\n",
    "#pd.set_option(\"display.max_columns\", len(properatti.columns))"
   ]
  },
  {
   "cell_type": "code",
   "execution_count": 3,
   "metadata": {},
   "outputs": [],
   "source": [
    "df = pd.DataFrame(pd.read_csv(\"../data/properatti_minusculas.csv\", encoding='UTF-8'))\n",
    "\n",
    "\n",
    "#!head nombreArchivo.cvs --> comando de linux para ver las 5 primeras lineas. Se puede utilizar para ver como estan separados los datos"
   ]
  },
  {
   "cell_type": "code",
   "execution_count": null,
   "metadata": {},
   "outputs": [],
   "source": [
    "df.info(verbose=None, null_counts=True)"
   ]
  },
  {
   "cell_type": "code",
   "execution_count": 4,
   "metadata": {
    "scrolled": false
   },
   "outputs": [
    {
     "data": {
      "text/plain": [
       "32103    excelente departamento de 4 ambientes con dependencia, 3 banos, detalles de categoria, - pisos de madera(roble de eslavonia)- aire acondicionado central para toda la unidad (frio calor)- cortinas de enrollar electricas (las grandes)- hogar a lenos (funciona perfecto)- todos los muros pintados con satinol- parrilla en patio andaluz- agua caliente por termotanque en zona dormitorios y por calefon en sector cocina/lavadero en el corazon del parque centenario con una vista magnifica hacia el mismo, digno de ver\n",
       "Name: description, dtype: object"
      ]
     },
     "execution_count": 4,
     "metadata": {},
     "output_type": "execute_result"
    }
   ],
   "source": [
    "df.sample(1)['description']"
   ]
  },
  {
   "cell_type": "markdown",
   "metadata": {},
   "source": [
    "* Información de las columnas"
   ]
  },
  {
   "cell_type": "code",
   "execution_count": null,
   "metadata": {},
   "outputs": [],
   "source": [
    "# Busqueda de NaNs\n",
    "df[pd.isnull(df['description'])]\n"
   ]
  },
  {
   "cell_type": "markdown",
   "metadata": {},
   "source": [
    "### Reemplazo de NaN's\n",
    "Esto se realiza porque la función de búsqueda explotaba "
   ]
  },
  {
   "cell_type": "code",
   "execution_count": 5,
   "metadata": {},
   "outputs": [
    {
     "data": {
      "text/html": [
       "<div>\n",
       "<style scoped>\n",
       "    .dataframe tbody tr th:only-of-type {\n",
       "        vertical-align: middle;\n",
       "    }\n",
       "\n",
       "    .dataframe tbody tr th {\n",
       "        vertical-align: top;\n",
       "    }\n",
       "\n",
       "    .dataframe thead th {\n",
       "        text-align: right;\n",
       "    }\n",
       "</style>\n",
       "<table border=\"1\" class=\"dataframe\">\n",
       "  <thead>\n",
       "    <tr style=\"text-align: right;\">\n",
       "      <th></th>\n",
       "      <th>Unnamed: 0</th>\n",
       "      <th>Unnamed: 0.1</th>\n",
       "      <th>operation</th>\n",
       "      <th>property_type</th>\n",
       "      <th>place_name</th>\n",
       "      <th>place_with_parent_names</th>\n",
       "      <th>country_name</th>\n",
       "      <th>state_name</th>\n",
       "      <th>geonames_id</th>\n",
       "      <th>lat-lon</th>\n",
       "      <th>...</th>\n",
       "      <th>surface_covered_in_m2</th>\n",
       "      <th>price_usd_per_m2</th>\n",
       "      <th>price_per_m2</th>\n",
       "      <th>floor</th>\n",
       "      <th>rooms</th>\n",
       "      <th>expenses</th>\n",
       "      <th>properati_url</th>\n",
       "      <th>description</th>\n",
       "      <th>title</th>\n",
       "      <th>image_thumbnail</th>\n",
       "    </tr>\n",
       "  </thead>\n",
       "  <tbody>\n",
       "    <tr>\n",
       "      <th>0</th>\n",
       "      <td>0</td>\n",
       "      <td>0</td>\n",
       "      <td>sell</td>\n",
       "      <td>PH</td>\n",
       "      <td>mataderos</td>\n",
       "      <td>|argentina|capital federal|mataderos|</td>\n",
       "      <td>Argentina</td>\n",
       "      <td>capital federal</td>\n",
       "      <td>3.43079e+06</td>\n",
       "      <td>-34.6618237,-58.5088387</td>\n",
       "      <td>...</td>\n",
       "      <td>40</td>\n",
       "      <td>1127.27</td>\n",
       "      <td>1550</td>\n",
       "      <td>sin-dato</td>\n",
       "      <td>sin-dato</td>\n",
       "      <td>sin-dato</td>\n",
       "      <td>http://www.properati.com.ar/15bo8_venta_ph_mataderos_lavadero_patio_inmobiliaria-fedele</td>\n",
       "      <td>2 ambientes tipo casa planta baja por pasillo, refaccionado a nuevo, patio grande, con lavadero, living comedor con cocina integrada, artefacto de cocina, alacena, bano completo, y dormitorio. todo en excelente estado, para habitar.no es apto credito aviso publicado por pixel inmobiliario (servicio de paginas web para inmobiliarias).</td>\n",
       "      <td>2 amb tipo casa sin expensas en pb</td>\n",
       "      <td>https://thumbs4.properati.com/8/BluUYiHJLhgIIKufMJMwHtquzhk=/trim/198x0/smart/filters:strip_icc()/inmobiliariafedele.com/photos/CARHUE%202278-IMG_3400.JPG</td>\n",
       "    </tr>\n",
       "    <tr>\n",
       "      <th>1</th>\n",
       "      <td>1</td>\n",
       "      <td>1</td>\n",
       "      <td>sell</td>\n",
       "      <td>apartment</td>\n",
       "      <td>la plata</td>\n",
       "      <td>|argentina|bs.as. g.b.a. zona sur|la plata|</td>\n",
       "      <td>Argentina</td>\n",
       "      <td>bs.as. g.b.a. zona sur</td>\n",
       "      <td>3.43204e+06</td>\n",
       "      <td>-34.9038831,-57.9643295</td>\n",
       "      <td>...</td>\n",
       "      <td>sin-dato</td>\n",
       "      <td>sin-dato</td>\n",
       "      <td>sin-dato</td>\n",
       "      <td>sin-dato</td>\n",
       "      <td>sin-dato</td>\n",
       "      <td>sin-dato</td>\n",
       "      <td>http://www.properati.com.ar/15bob_venta_departamentos_la-plata_balcon_lavadero_toilette_garage_estrenar_antonini-propiedades_dcp</td>\n",
       "      <td>venta de departamento en decimo piso al frente, a estrenar. living comedor con ventanales hacia el balcon con pisos de madera. cocina completa con doble mesada, muebles bajo mesada. lavadero separado. toilette.dormitorio con placard. segundo dormitorio a dividir. calefaccion por radiadorbano completo.balcon corrido. posibilidad de cochera semicubierta. u$d 20.000                     aviso publicado por pixel inmobiliario (servicio de paginas web para inmobiliarias).</td>\n",
       "      <td>venta depto 2 dorm. a estrenar 7 e/ 36 y 37</td>\n",
       "      <td>https://thumbs4.properati.com/7/ikpVBu2ztHA7jv45KAKirGL3JM8=/trim/198x0/smart/filters:strip_icc()/antoninipropiedades.com/photos/401-1-7%20y%2037%2010A%201.jpg</td>\n",
       "    </tr>\n",
       "  </tbody>\n",
       "</table>\n",
       "<p>2 rows × 27 columns</p>\n",
       "</div>"
      ],
      "text/plain": [
       "   Unnamed: 0  Unnamed: 0.1 operation property_type place_name  \\\n",
       "0  0           0             sell      PH            mataderos   \n",
       "1  1           1             sell      apartment     la plata    \n",
       "\n",
       "                       place_with_parent_names country_name  \\\n",
       "0  |argentina|capital federal|mataderos|        Argentina     \n",
       "1  |argentina|bs.as. g.b.a. zona sur|la plata|  Argentina     \n",
       "\n",
       "               state_name  geonames_id                  lat-lon  ...  \\\n",
       "0  capital federal         3.43079e+06  -34.6618237,-58.5088387  ...   \n",
       "1  bs.as. g.b.a. zona sur  3.43204e+06  -34.9038831,-57.9643295  ...   \n",
       "\n",
       "  surface_covered_in_m2 price_usd_per_m2 price_per_m2     floor     rooms  \\\n",
       "0  40                    1127.27          1550         sin-dato  sin-dato   \n",
       "1  sin-dato              sin-dato         sin-dato     sin-dato  sin-dato   \n",
       "\n",
       "   expenses  \\\n",
       "0  sin-dato   \n",
       "1  sin-dato   \n",
       "\n",
       "                                                                                                                      properati_url  \\\n",
       "0  http://www.properati.com.ar/15bo8_venta_ph_mataderos_lavadero_patio_inmobiliaria-fedele                                            \n",
       "1  http://www.properati.com.ar/15bob_venta_departamentos_la-plata_balcon_lavadero_toilette_garage_estrenar_antonini-propiedades_dcp   \n",
       "\n",
       "                                                                                                                                                                                                                                                                                                                                                                                                                                                                              description  \\\n",
       "0  2 ambientes tipo casa planta baja por pasillo, refaccionado a nuevo, patio grande, con lavadero, living comedor con cocina integrada, artefacto de cocina, alacena, bano completo, y dormitorio. todo en excelente estado, para habitar.no es apto credito aviso publicado por pixel inmobiliario (servicio de paginas web para inmobiliarias).                                                                                                                                          \n",
       "1  venta de departamento en decimo piso al frente, a estrenar. living comedor con ventanales hacia el balcon con pisos de madera. cocina completa con doble mesada, muebles bajo mesada. lavadero separado. toilette.dormitorio con placard. segundo dormitorio a dividir. calefaccion por radiadorbano completo.balcon corrido. posibilidad de cochera semicubierta. u$d 20.000                     aviso publicado por pixel inmobiliario (servicio de paginas web para inmobiliarias).   \n",
       "\n",
       "                                                        title  \\\n",
       "0  2 amb tipo casa sin expensas en pb                           \n",
       "1  venta depto 2 dorm. a estrenar 7 e/ 36 y 37                  \n",
       "\n",
       "                                                                                                                                                   image_thumbnail  \n",
       "0  https://thumbs4.properati.com/8/BluUYiHJLhgIIKufMJMwHtquzhk=/trim/198x0/smart/filters:strip_icc()/inmobiliariafedele.com/photos/CARHUE%202278-IMG_3400.JPG       \n",
       "1  https://thumbs4.properati.com/7/ikpVBu2ztHA7jv45KAKirGL3JM8=/trim/198x0/smart/filters:strip_icc()/antoninipropiedades.com/photos/401-1-7%20y%2037%2010A%201.jpg  \n",
       "\n",
       "[2 rows x 27 columns]"
      ]
     },
     "execution_count": 5,
     "metadata": {},
     "output_type": "execute_result"
    }
   ],
   "source": [
    "df_a1=df.replace(np.nan,'sin-dato')\n",
    "df_a1.head(2)"
   ]
  },
  {
   "cell_type": "markdown",
   "metadata": {},
   "source": [
    "### Patterns"
   ]
  },
  {
   "cell_type": "code",
   "execution_count": 7,
   "metadata": {},
   "outputs": [],
   "source": [
    "# Comentar lo que no se deba ejecutar\n",
    "\n",
    "#pattern = r'(\\d+)\\s[m]2' # Patron para buscar metros cuadrados (m2)\n",
    "pattern = r'(\\d*\\w*)\\s*amb'  # Patron para buscar metros ambientes\n",
    "#pattern = r'(\\d*)\\s?\\b[aA]mbientes\\w*'\n",
    "#pattern = r'(\\d*\\w*)\\s*usd'\n",
    "#pattern = r'(\\d*\\w*)\\s*habitacion|(\\d*\\w*)\\s?cuarto|(\\d*\\w*)\\s?dorm|(\\d*\\w*)\\s?pieza'"
   ]
  },
  {
   "cell_type": "code",
   "execution_count": 8,
   "metadata": {},
   "outputs": [],
   "source": [
    "regex = re.compile(pattern, flags = re.IGNORECASE)"
   ]
  },
  {
   "cell_type": "markdown",
   "metadata": {},
   "source": [
    "### Pruebas de campos"
   ]
  },
  {
   "cell_type": "code",
   "execution_count": 9,
   "metadata": {},
   "outputs": [
    {
     "data": {
      "text/plain": [
       "'departamento en primer piso por escalera, dos plantas. amplias vistas al lago gutierrez y los cerros. pb: hall frio. cocina integrada al living mediante barra con espacio para lavarropas. mueble secarropa. living comedor con salida a amplio balcon. 02 habitaciones, una en suite. toilette c/ducha. pa: suite principal con vestidor y bano con jacuzzi doble y ducha. pisos de madera plastificada y ventanas de pvc. incluye baulera y espacio guardacoche.'"
      ]
     },
     "execution_count": 9,
     "metadata": {},
     "output_type": "execute_result"
    }
   ],
   "source": [
    "df.iloc[55476]['description']"
   ]
  },
  {
   "cell_type": "markdown",
   "metadata": {},
   "source": [
    "### Funciones"
   ]
  },
  {
   "cell_type": "code",
   "execution_count": 10,
   "metadata": {},
   "outputs": [],
   "source": [
    "# Busca claves segun pattern en columna dentro de dataFrame \n",
    "# Entrada: pattern, columna, df\n",
    "# Salida: DataFrame\n",
    "\n",
    "def busca_claves(pattern, columna, df_aux):\n",
    "    regex = re.compile(pattern, flags = re.IGNORECASE)\n",
    "    m = pd.DataFrame([regex.findall(n) for n in df_aux[columna].head(100)])\n",
    "    return m[0]"
   ]
  },
  {
   "cell_type": "code",
   "execution_count": 11,
   "metadata": {},
   "outputs": [],
   "source": [
    "def existe_clave(key, columna, df_aux):    \n",
    "    m = []\n",
    "    for frase in df_aux[columna]:\n",
    "        if key in frase:\n",
    "            m.append(True)\n",
    "        else:\n",
    "            m.append(False)\n",
    "    return sum(m)\n"
   ]
  },
  {
   "cell_type": "code",
   "execution_count": 12,
   "metadata": {},
   "outputs": [],
   "source": [
    "def quitar_caracteres(column):\n",
    "    for i in range(len(column)):\n",
    "        if type(column[i]) == str:\n",
    "            column[i] = str.lower(unidecode.unidecode(column[i]))"
   ]
  },
  {
   "cell_type": "code",
   "execution_count": null,
   "metadata": {
    "scrolled": true
   },
   "outputs": [],
   "source": [
    "quitar_caracteres(properatti1[\"place_name\"])\n",
    "quitar_caracteres(properatti1[\"place_with_parent_names\"])\n",
    "quitar_caracteres(properatti1[\"country_name\"])\n",
    "quitar_caracteres(properatti1[\"state_name\"])\n",
    "quitar_caracteres(properatti1[\"description\"])\n",
    "quitar_caracteres(properatti1[\"title\"])\n"
   ]
  },
  {
   "cell_type": "code",
   "execution_count": null,
   "metadata": {},
   "outputs": [],
   "source": []
  },
  {
   "cell_type": "code",
   "execution_count": 13,
   "metadata": {},
   "outputs": [
    {
     "data": {
      "text/plain": [
       "19348"
      ]
     },
     "execution_count": 13,
     "metadata": {},
     "output_type": "execute_result"
    }
   ],
   "source": [
    "existe_clave(\"$\",\"description\",df_a1)\n"
   ]
  },
  {
   "cell_type": "markdown",
   "metadata": {},
   "source": [
    "### Concatenar DFs"
   ]
  },
  {
   "cell_type": "code",
   "execution_count": null,
   "metadata": {},
   "outputs": [],
   "source": [
    "pd.concat([df3, df4], axis='columns')"
   ]
  },
  {
   "cell_type": "markdown",
   "metadata": {},
   "source": [
    "### TESTING Regex"
   ]
  },
  {
   "cell_type": "code",
   "execution_count": null,
   "metadata": {},
   "outputs": [],
   "source": [
    "df1 = busca_claves(pattern,'description',df_a1)\n",
    "#df1 = busca_claves(pattern,'description',df_a1)\n",
    "#df2 = busca_claves(pattern,'title',df_a1)"
   ]
  },
  {
   "cell_type": "code",
   "execution_count": null,
   "metadata": {},
   "outputs": [],
   "source": [
    "#prod.apply(lambda x: pd.api.types.infer_dtype(x.values))"
   ]
  },
  {
   "cell_type": "code",
   "execution_count": null,
   "metadata": {},
   "outputs": [],
   "source": [
    "# Dejamos todos los strings en minusculas sin acentos\n",
    "\n",
    "quitar_caracteres(df1)\n",
    "df1 = pd.DataFrame(df1)\n",
    "\n",
    "\n",
    "df1\n",
    "#df1.rename(index={0:'ambientes'}, inplace=True)\n"
   ]
  },
  {
   "cell_type": "markdown",
   "metadata": {},
   "source": [
    "### Rutina para reemplazar literales a numeros"
   ]
  },
  {
   "cell_type": "code",
   "execution_count": 14,
   "metadata": {},
   "outputs": [
    {
     "data": {
      "text/plain": [
       "0     2   \n",
       "1     None\n",
       "2     2   \n",
       "3     3   \n",
       "4     None\n",
       "5     None\n",
       "6     None\n",
       "7     mono\n",
       "8     dos \n",
       "9     None\n",
       "10    None\n",
       "11    1   \n",
       "12    2   \n",
       "13    3   \n",
       "14        \n",
       "15    None\n",
       "16    4   \n",
       "17    3   \n",
       "18    los \n",
       "19    t   \n",
       "20    None\n",
       "21    None\n",
       "22    los \n",
       "23    t   \n",
       "24    4   \n",
       "25    4   \n",
       "26    None\n",
       "27    None\n",
       "28    4   \n",
       "29    sus \n",
       "Name: 0, dtype: object"
      ]
     },
     "execution_count": 14,
     "metadata": {},
     "output_type": "execute_result"
    }
   ],
   "source": [
    "# Armo DF de ambientes\n",
    "\n",
    "df1 = busca_claves(pattern,'description',df_a1).head(30)\n",
    "df1"
   ]
  },
  {
   "cell_type": "code",
   "execution_count": 15,
   "metadata": {},
   "outputs": [
    {
     "data": {
      "text/plain": [
       "0     2   \n",
       "1     None\n",
       "2     2   \n",
       "3     3   \n",
       "4     None\n",
       "5     None\n",
       "6     None\n",
       "7     mono\n",
       "8     dos \n",
       "9     None\n",
       "10    None\n",
       "11    1   \n",
       "12    2   \n",
       "13    3   \n",
       "14        \n",
       "15    None\n",
       "16    4   \n",
       "17    3   \n",
       "18    los \n",
       "19    t   \n",
       "20    None\n",
       "21    None\n",
       "22    los \n",
       "23    t   \n",
       "24    4   \n",
       "25    4   \n",
       "26    None\n",
       "27    None\n",
       "28    4   \n",
       "29    sus \n",
       "dtype: object"
      ]
     },
     "execution_count": 15,
     "metadata": {},
     "output_type": "execute_result"
    }
   ],
   "source": [
    "# Coloco nombre en la columna para luego hacer merge\n",
    "\n",
    "df1.rename(columns={0:'ambientes'}, inplace=True)"
   ]
  },
  {
   "cell_type": "code",
   "execution_count": 32,
   "metadata": {},
   "outputs": [],
   "source": [
    "dic = {'mono': 1, 'un':1, 'uno':1, 'dos':2, 'tres':3, 'cuatro':4, 'cinco':5 ,'seis':6 ,'siete':7}\n",
    "lista_prop = ['mono','un','uno','dos','tres','cuatro','cinco','seis','siete']\n",
    "\n",
    "def cambiar_x_nros(df):\n",
    "    aux1 = pd.DataFrame([x if x not in lista_prop else dic.get(x) for x in df1])\n",
    "    aux2 = pd.DataFrame([x if x == int else np.nan for x in aux1])\n",
    "    return aux1\n",
    "\n",
    "# Le voy a dar otra vuelta para reemplazar los no numericos por NaNs"
   ]
  },
  {
   "cell_type": "code",
   "execution_count": 33,
   "metadata": {},
   "outputs": [
    {
     "data": {
      "text/html": [
       "<div>\n",
       "<style scoped>\n",
       "    .dataframe tbody tr th:only-of-type {\n",
       "        vertical-align: middle;\n",
       "    }\n",
       "\n",
       "    .dataframe tbody tr th {\n",
       "        vertical-align: top;\n",
       "    }\n",
       "\n",
       "    .dataframe thead th {\n",
       "        text-align: right;\n",
       "    }\n",
       "</style>\n",
       "<table border=\"1\" class=\"dataframe\">\n",
       "  <thead>\n",
       "    <tr style=\"text-align: right;\">\n",
       "      <th></th>\n",
       "      <th>0</th>\n",
       "    </tr>\n",
       "  </thead>\n",
       "  <tbody>\n",
       "    <tr>\n",
       "      <th>0</th>\n",
       "      <td>2</td>\n",
       "    </tr>\n",
       "    <tr>\n",
       "      <th>1</th>\n",
       "      <td>None</td>\n",
       "    </tr>\n",
       "    <tr>\n",
       "      <th>2</th>\n",
       "      <td>2</td>\n",
       "    </tr>\n",
       "    <tr>\n",
       "      <th>3</th>\n",
       "      <td>3</td>\n",
       "    </tr>\n",
       "    <tr>\n",
       "      <th>4</th>\n",
       "      <td>None</td>\n",
       "    </tr>\n",
       "    <tr>\n",
       "      <th>5</th>\n",
       "      <td>None</td>\n",
       "    </tr>\n",
       "    <tr>\n",
       "      <th>6</th>\n",
       "      <td>None</td>\n",
       "    </tr>\n",
       "    <tr>\n",
       "      <th>7</th>\n",
       "      <td>1</td>\n",
       "    </tr>\n",
       "    <tr>\n",
       "      <th>8</th>\n",
       "      <td>2</td>\n",
       "    </tr>\n",
       "    <tr>\n",
       "      <th>9</th>\n",
       "      <td>None</td>\n",
       "    </tr>\n",
       "    <tr>\n",
       "      <th>10</th>\n",
       "      <td>None</td>\n",
       "    </tr>\n",
       "    <tr>\n",
       "      <th>11</th>\n",
       "      <td>1</td>\n",
       "    </tr>\n",
       "    <tr>\n",
       "      <th>12</th>\n",
       "      <td>2</td>\n",
       "    </tr>\n",
       "    <tr>\n",
       "      <th>13</th>\n",
       "      <td>3</td>\n",
       "    </tr>\n",
       "    <tr>\n",
       "      <th>14</th>\n",
       "      <td></td>\n",
       "    </tr>\n",
       "    <tr>\n",
       "      <th>15</th>\n",
       "      <td>None</td>\n",
       "    </tr>\n",
       "    <tr>\n",
       "      <th>16</th>\n",
       "      <td>4</td>\n",
       "    </tr>\n",
       "    <tr>\n",
       "      <th>17</th>\n",
       "      <td>3</td>\n",
       "    </tr>\n",
       "    <tr>\n",
       "      <th>18</th>\n",
       "      <td>los</td>\n",
       "    </tr>\n",
       "    <tr>\n",
       "      <th>19</th>\n",
       "      <td>t</td>\n",
       "    </tr>\n",
       "    <tr>\n",
       "      <th>20</th>\n",
       "      <td>None</td>\n",
       "    </tr>\n",
       "    <tr>\n",
       "      <th>21</th>\n",
       "      <td>None</td>\n",
       "    </tr>\n",
       "    <tr>\n",
       "      <th>22</th>\n",
       "      <td>los</td>\n",
       "    </tr>\n",
       "    <tr>\n",
       "      <th>23</th>\n",
       "      <td>t</td>\n",
       "    </tr>\n",
       "    <tr>\n",
       "      <th>24</th>\n",
       "      <td>4</td>\n",
       "    </tr>\n",
       "    <tr>\n",
       "      <th>25</th>\n",
       "      <td>4</td>\n",
       "    </tr>\n",
       "    <tr>\n",
       "      <th>26</th>\n",
       "      <td>None</td>\n",
       "    </tr>\n",
       "    <tr>\n",
       "      <th>27</th>\n",
       "      <td>None</td>\n",
       "    </tr>\n",
       "    <tr>\n",
       "      <th>28</th>\n",
       "      <td>4</td>\n",
       "    </tr>\n",
       "    <tr>\n",
       "      <th>29</th>\n",
       "      <td>sus</td>\n",
       "    </tr>\n",
       "  </tbody>\n",
       "</table>\n",
       "</div>"
      ],
      "text/plain": [
       "       0\n",
       "0   2   \n",
       "1   None\n",
       "2   2   \n",
       "3   3   \n",
       "4   None\n",
       "5   None\n",
       "6   None\n",
       "7   1   \n",
       "8   2   \n",
       "9   None\n",
       "10  None\n",
       "11  1   \n",
       "12  2   \n",
       "13  3   \n",
       "14      \n",
       "15  None\n",
       "16  4   \n",
       "17  3   \n",
       "18  los \n",
       "19  t   \n",
       "20  None\n",
       "21  None\n",
       "22  los \n",
       "23  t   \n",
       "24  4   \n",
       "25  4   \n",
       "26  None\n",
       "27  None\n",
       "28  4   \n",
       "29  sus "
      ]
     },
     "execution_count": 33,
     "metadata": {},
     "output_type": "execute_result"
    }
   ],
   "source": [
    "cambiar_x_nros(df1)"
   ]
  },
  {
   "cell_type": "markdown",
   "metadata": {},
   "source": [
    "### Fin rutina "
   ]
  },
  {
   "cell_type": "code",
   "execution_count": null,
   "metadata": {},
   "outputs": [],
   "source": [
    "#df1['ambientes'] = df1['ambientes'].apply(lambda x: dic.get(x))\n",
    "#df1\n",
    "\n",
    "#df1['ambientes'].apply(lambda x: dic.get(x))\n",
    "#df[\"Date\"] = df[\"Member\"].apply(lambda x: d.get(x))"
   ]
  },
  {
   "cell_type": "code",
   "execution_count": null,
   "metadata": {},
   "outputs": [],
   "source": [
    "# DF para join muchos a muchos\n",
    "\n",
    "df_conve = pd.DataFrame({'ambientes': ['mono','un','uno','dos','tres','cuatro','cinco','seis','siete'],\n",
    "           'numero': [1,1,1,2,3,4,5,6,7]})\n",
    "df_conve\n"
   ]
  },
  {
   "cell_type": "code",
   "execution_count": null,
   "metadata": {},
   "outputs": [],
   "source": [
    "# Pasaje de cifras literales a nros\n",
    "\n",
    "df2 = pd.merge(df1,df_conve)\n",
    "df2"
   ]
  },
  {
   "cell_type": "code",
   "execution_count": null,
   "metadata": {},
   "outputs": [],
   "source": []
  },
  {
   "cell_type": "markdown",
   "metadata": {},
   "source": [
    "# SIN USO"
   ]
  },
  {
   "cell_type": "code",
   "execution_count": null,
   "metadata": {},
   "outputs": [],
   "source": [
    "#tmp_df = df[\"cases\"].str.extract(\"([a-z])([0-9]+)([0-9]{2})\",expand=True) \n",
    "tmp_df = df[\"description\"].str.extract(\"((\\d*)\\s?\\b[aA]mb\\w*)\",expand=True) \n",
    "tmp_df.dropna(axis=0)"
   ]
  },
  {
   "cell_type": "code",
   "execution_count": null,
   "metadata": {},
   "outputs": [],
   "source": [
    "# TEST: Regex de prueba. Alimenta un DF con el resultado\n",
    "# CONDICION: No lee NaN's\n",
    "# NOTA: Me di cuenta que REGEX analiza todo el str y en muchos casos detecta la KEY en varias partes del \n",
    "#   str, ergo, al capturar el siguiente dato, lo incluye dentro de una lista y eso lo representa en otra columna\n",
    "#   Entonces ponerle nombre a una única columna no tendría sentido. Si verificamos con .head(10) no vamos\n",
    "#   a tener problemas porque justo las 10 primeras filas no tienen mas de una KEY en el str a analizar...\n",
    "\n",
    "#m = pd.DataFrame([regex.findall(n) for n in df_a1['description'].head(10)], columns=[\"ambientes\"] )\n",
    "m = pd.DataFrame([regex.findall(n) for n in df_a1['description'].head(50)])\n",
    "#m = pd.DataFrame([regex.findall(n) for n in df_a1['description']])\n",
    "display(len(m))\n",
    "#m\n",
    "m[0]\n"
   ]
  },
  {
   "cell_type": "code",
   "execution_count": null,
   "metadata": {},
   "outputs": [],
   "source": []
  },
  {
   "cell_type": "code",
   "execution_count": null,
   "metadata": {},
   "outputs": [],
   "source": []
  },
  {
   "cell_type": "code",
   "execution_count": null,
   "metadata": {},
   "outputs": [],
   "source": []
  },
  {
   "cell_type": "code",
   "execution_count": null,
   "metadata": {},
   "outputs": [],
   "source": []
  },
  {
   "cell_type": "code",
   "execution_count": null,
   "metadata": {},
   "outputs": [],
   "source": []
  },
  {
   "cell_type": "code",
   "execution_count": null,
   "metadata": {},
   "outputs": [],
   "source": [
    "# Para pasar una linea a un tipo en particular:\n",
    "\n",
    "c = \"1\"\n",
    "pd.to_numeric(c,int)"
   ]
  },
  {
   "cell_type": "code",
   "execution_count": null,
   "metadata": {},
   "outputs": [],
   "source": []
  }
 ],
 "metadata": {
  "kernelspec": {
   "display_name": "Python 3",
   "language": "python",
   "name": "python3"
  },
  "language_info": {
   "codemirror_mode": {
    "name": "ipython",
    "version": 3
   },
   "file_extension": ".py",
   "mimetype": "text/x-python",
   "name": "python",
   "nbconvert_exporter": "python",
   "pygments_lexer": "ipython3",
   "version": "3.7.3"
  }
 },
 "nbformat": 4,
 "nbformat_minor": 2
}
