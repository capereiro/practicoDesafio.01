{
 "cells": [
  {
   "cell_type": "markdown",
   "metadata": {},
   "source": [
    "# Grupo 03 - Desafío 01\n",
    "## Estrategia de construcción - Desarrollo\n",
    ">**OBJETIVO:** Crear un df de post-producción que luego se transformará en producción para realizar análisis del dataset.\n",
    "> * Se trabajará depurando cada columna del dataset con la finalidad de reconstruir datos perdidos y/o crear nuevas columnas que serán utilizadas a posteriori en la fase de análisis."
   ]
  },
  {
   "cell_type": "markdown",
   "metadata": {},
   "source": [
    "### Instalación de librerías"
   ]
  },
  {
   "cell_type": "code",
   "execution_count": null,
   "metadata": {
    "scrolled": true
   },
   "outputs": [],
   "source": [
    "#!pip install unidecode\n"
   ]
  },
  {
   "cell_type": "markdown",
   "metadata": {},
   "source": [
    "### Importación de librerías"
   ]
  },
  {
   "cell_type": "code",
   "execution_count": 1,
   "metadata": {},
   "outputs": [],
   "source": [
    "import sys\n",
    "sys.path.append(\"../src\")\n",
    "import g3utils as g3\n",
    "\n",
    "import pandas as pd\n",
    "import numpy as np\n",
    "import re as re\n",
    "import unidecode"
   ]
  },
  {
   "cell_type": "markdown",
   "metadata": {},
   "source": [
    "### Carga e inicialización de df"
   ]
  },
  {
   "cell_type": "code",
   "execution_count": 2,
   "metadata": {},
   "outputs": [],
   "source": [
    "# Definición de filas a cargar en las pruebas\n",
    "ca_filas = 40"
   ]
  },
  {
   "cell_type": "code",
   "execution_count": 3,
   "metadata": {},
   "outputs": [],
   "source": [
    "# Carga del dataset en un df\n",
    "\n",
    "df = pd.DataFrame(pd.read_csv(\"../data/properatti_minusculas.csv\", encoding='UTF-8'))\n",
    "#!head nombreArchivo.cvs --> comando de linux para ver las 5 primeras lineas. Se puede utilizar para ver como estan separados los datos"
   ]
  },
  {
   "cell_type": "code",
   "execution_count": null,
   "metadata": {},
   "outputs": [],
   "source": [
    "# Para ver el contenido total de las columnas\n",
    "\n",
    "pd.set_option('display.max_colwidth', -1)"
   ]
  },
  {
   "cell_type": "code",
   "execution_count": null,
   "metadata": {},
   "outputs": [],
   "source": [
    "# Reemplado de NaN's\n",
    "df = g3.reemplaza_nan('sin datos',df)"
   ]
  },
  {
   "cell_type": "code",
   "execution_count": null,
   "metadata": {},
   "outputs": [],
   "source": [
    "df.shape"
   ]
  },
  {
   "cell_type": "code",
   "execution_count": null,
   "metadata": {},
   "outputs": [],
   "source": [
    "# Verificación del reemplazo\n",
    "df.sample(1)"
   ]
  },
  {
   "cell_type": "code",
   "execution_count": null,
   "metadata": {},
   "outputs": [],
   "source": [
    "df.columns.unique"
   ]
  },
  {
   "cell_type": "markdown",
   "metadata": {},
   "source": [
    "## Armado inicial de df's\n",
    "* Este bloque se reserva para realizar la precarga inicial dentro de un df de post-producción que finalmente se transformará en dataset de producción."
   ]
  },
  {
   "cell_type": "code",
   "execution_count": 4,
   "metadata": {},
   "outputs": [
    {
     "data": {
      "text/plain": [
       "(40, 1)"
      ]
     },
     "execution_count": 4,
     "metadata": {},
     "output_type": "execute_result"
    }
   ],
   "source": [
    "# Dadtaframe de posproducción. Tras depurar todas las regex, este DF será la base de análisis de negocio\n",
    "# Se ejecuta una única vez y se le van incorporando las columnas depuradas.\n",
    "# Tener en cuenta que el DF pospo definitivo tiene que tener la misma cantidad de filas que el DF base len(df)\n",
    "\n",
    "pospo = g3.generar_df_posproduccion(ca_filas)\n",
    "pospo.shape\n",
    "#pospo"
   ]
  },
  {
   "cell_type": "code",
   "execution_count": 5,
   "metadata": {},
   "outputs": [
    {
     "data": {
      "text/plain": [
       "(0, 0)"
      ]
     },
     "execution_count": 5,
     "metadata": {},
     "output_type": "execute_result"
    }
   ],
   "source": [
    "# Definición de df que permite registrar los valores recuperados de cada columna\n",
    "\n",
    "df_recup = pd.DataFrame()\n",
    "df_recup.shape"
   ]
  },
  {
   "cell_type": "code",
   "execution_count": null,
   "metadata": {},
   "outputs": [],
   "source": []
  },
  {
   "cell_type": "markdown",
   "metadata": {},
   "source": [
    "## Procesamiento de limpieza y carga de columnas depuradas en df post-produccion 'pospo'\n",
    "> *** Modo de uso:** \n",
    ">* En este markdown se vuelcan las funciones que generan y agregan columnas depuradas dentro de pospo\n",
    ">* La codificación de desarrollo se realiza mas abajo dentro del título **Desarrollo** y una vez terminado se empaqueta dentro de una función consolidadora.\n",
    "\n"
   ]
  },
  {
   "cell_type": "code",
   "execution_count": null,
   "metadata": {},
   "outputs": [],
   "source": [
    "key = 'ambientes'\n",
    "desc = g3.existe_clave(key, 'description', df)\n",
    "tit = g3.existe_clave(key, 'title', df)\n",
    "print('Datos recuperados: \"description\" ==> ',desc, '\"title\" ==> ',tit, '\"Total\" ==> ',desc+tit)"
   ]
  },
  {
   "cell_type": "code",
   "execution_count": 6,
   "metadata": {},
   "outputs": [],
   "source": [
    "# Depuración de expresion 'ambientes' en 'description' y generacion de columna en pospro\n",
    "# OK\n",
    "def recuperar_ambientes(pospo, recup):\n",
    "    pattern = r'(\\d*\\w*)\\s*amb'  \n",
    "    df1 = g3.busca_claves(pattern,'description',df.head(ca_filas))\n",
    "    dic = {'mono': 1, 'un':1, 'uno':1, 'dos':2, 'tres':3, 'cuatro':4, 'cinco':5 ,'seis':6 ,'siete':7}\n",
    "    df_temp = g3.limpiar_columna_x_clave(dic, df1)\n",
    "    \n",
    "    recuperados = df_temp[pd.notnull(df_temp[0])].count()\n",
    "    recup = g3.registrar_recupero(int(recuperados),'r_ambientes', recup)\n",
    "    \n",
    "    pospo = g3.agregar_columna('r_ambiente', pospo, df_temp)\n",
    "    return pospo, recup\n"
   ]
  },
  {
   "cell_type": "code",
   "execution_count": 7,
   "metadata": {},
   "outputs": [
    {
     "name": "stdout",
     "output_type": "stream",
     "text": [
      "pospo.size ==> (40, 2)\n",
      "df_recup.size ==> (1, 1)\n"
     ]
    }
   ],
   "source": [
    "pospo, df_recup = recuperar_ambientes(pospo, df_recup)\n",
    "print('pospo.size ==> ' + str(pospo.shape))\n",
    "print('df_recup.size ==> ' + str(df_recup.shape))"
   ]
  },
  {
   "cell_type": "code",
   "execution_count": 8,
   "metadata": {},
   "outputs": [
    {
     "data": {
      "text/html": [
       "<div>\n",
       "<style scoped>\n",
       "    .dataframe tbody tr th:only-of-type {\n",
       "        vertical-align: middle;\n",
       "    }\n",
       "\n",
       "    .dataframe tbody tr th {\n",
       "        vertical-align: top;\n",
       "    }\n",
       "\n",
       "    .dataframe thead th {\n",
       "        text-align: right;\n",
       "    }\n",
       "</style>\n",
       "<table border=\"1\" class=\"dataframe\">\n",
       "  <thead>\n",
       "    <tr style=\"text-align: right;\">\n",
       "      <th></th>\n",
       "      <th>r_ambientes</th>\n",
       "    </tr>\n",
       "  </thead>\n",
       "  <tbody>\n",
       "    <tr>\n",
       "      <th>0</th>\n",
       "      <td>17</td>\n",
       "    </tr>\n",
       "  </tbody>\n",
       "</table>\n",
       "</div>"
      ],
      "text/plain": [
       "   r_ambientes\n",
       "0           17"
      ]
     },
     "execution_count": 8,
     "metadata": {},
     "output_type": "execute_result"
    }
   ],
   "source": [
    "df_recup"
   ]
  },
  {
   "cell_type": "code",
   "execution_count": null,
   "metadata": {},
   "outputs": [],
   "source": []
  },
  {
   "cell_type": "code",
   "execution_count": null,
   "metadata": {},
   "outputs": [],
   "source": []
  },
  {
   "cell_type": "code",
   "execution_count": null,
   "metadata": {},
   "outputs": [],
   "source": []
  },
  {
   "cell_type": "code",
   "execution_count": null,
   "metadata": {},
   "outputs": [],
   "source": []
  },
  {
   "cell_type": "code",
   "execution_count": 9,
   "metadata": {},
   "outputs": [],
   "source": [
    "# Depuración 'precio usd' en 'description' y agregado de columna en pospro\n",
    "# OK\n",
    "\n",
    "def recuperar_usd(pospo, recup):\n",
    "    pattern = r\"(\\d+\\.?\\,?\\d+\\.?\\,?\\d+)\\s?u[$sd]\\w?|u[$sd]\\w?\\s*(\\d+\\.?\\,?\\d+\\.?\\,?\\d+)\" # precio_usd\n",
    "    df1 = g3.busca_claves(pattern,'description',df.head(ca_filas)) # Para trabajar con un DF acotado\n",
    "    df2 = g3.obtener_df_indexado(df1, 'r_usd') # Genera DF acotado con los valores recuperados unicamente\n",
    "\n",
    "    recup = g3.registrar_recupero(len(df2),'r_usd', recup)\n",
    "\n",
    "    pospo = pd.merge(pospo, df2, on='indice', how='left')\n",
    "    return pospo, recup\n"
   ]
  },
  {
   "cell_type": "code",
   "execution_count": 13,
   "metadata": {
    "scrolled": true
   },
   "outputs": [
    {
     "name": "stdout",
     "output_type": "stream",
     "text": [
      "pospo.size ==> (40, 4)\n",
      "df_recup.size ==> (1, 2)\n"
     ]
    }
   ],
   "source": [
    "pospo, df_recup = recuperar_usd(pospo, df_recup)\n",
    "print('pospo.size ==> ' + str(pospo.shape))\n",
    "print('df_recup.size ==> ' + str(df_recup.shape))"
   ]
  },
  {
   "cell_type": "code",
   "execution_count": 14,
   "metadata": {},
   "outputs": [
    {
     "data": {
      "text/html": [
       "<div>\n",
       "<style scoped>\n",
       "    .dataframe tbody tr th:only-of-type {\n",
       "        vertical-align: middle;\n",
       "    }\n",
       "\n",
       "    .dataframe tbody tr th {\n",
       "        vertical-align: top;\n",
       "    }\n",
       "\n",
       "    .dataframe thead th {\n",
       "        text-align: right;\n",
       "    }\n",
       "</style>\n",
       "<table border=\"1\" class=\"dataframe\">\n",
       "  <thead>\n",
       "    <tr style=\"text-align: right;\">\n",
       "      <th></th>\n",
       "      <th>r_ambientes</th>\n",
       "      <th>r_usd</th>\n",
       "    </tr>\n",
       "  </thead>\n",
       "  <tbody>\n",
       "    <tr>\n",
       "      <th>0</th>\n",
       "      <td>17</td>\n",
       "      <td>7</td>\n",
       "    </tr>\n",
       "  </tbody>\n",
       "</table>\n",
       "</div>"
      ],
      "text/plain": [
       "   r_ambientes  r_usd\n",
       "0           17      7"
      ]
     },
     "execution_count": 14,
     "metadata": {},
     "output_type": "execute_result"
    }
   ],
   "source": [
    "df_recup"
   ]
  },
  {
   "cell_type": "code",
   "execution_count": null,
   "metadata": {},
   "outputs": [],
   "source": []
  },
  {
   "cell_type": "code",
   "execution_count": 101,
   "metadata": {},
   "outputs": [],
   "source": [
    "# ------------------------------\n",
    "# Reemplaza NaN's por el valor de la clave ingresada\n",
    "# Entrada: clave, df\n",
    "# Salida: DataFrame\n",
    "\n",
    "# def reemplaza_x_por_valor(dic, df, valor=None):\n",
    "def reemplaza_x_por_valor(dic, df):\n",
    "   \n",
    "    df_temp = [x if x not in dic or len(x) == 0 else dic.get(x) for x in df]\n",
    "    return df_temp"
   ]
  },
  {
   "cell_type": "code",
   "execution_count": 89,
   "metadata": {},
   "outputs": [],
   "source": [
    "dic = {'': 'Auto'}\n",
    "# dic = {}"
   ]
  },
  {
   "cell_type": "code",
   "execution_count": 63,
   "metadata": {},
   "outputs": [],
   "source": [
    "df1 = pd.DataFrame(reemplaza_x_por_valor(dic,df1))"
   ]
  },
  {
   "cell_type": "code",
   "execution_count": null,
   "metadata": {},
   "outputs": [],
   "source": []
  },
  {
   "cell_type": "code",
   "execution_count": null,
   "metadata": {},
   "outputs": [],
   "source": []
  },
  {
   "cell_type": "code",
   "execution_count": null,
   "metadata": {},
   "outputs": [],
   "source": []
  },
  {
   "cell_type": "code",
   "execution_count": null,
   "metadata": {},
   "outputs": [],
   "source": [
    "def recuperar_metros(pospo):\n",
    "    pattern = r\"(\\d*)\\,?\\d*\\s?(?:m²|mts\\s?2|metros\\s?2|mts²|m2|metros\\s?cuadrado|mts\\s?cuadrado)\" # superficie\n",
    "    df1 = g3.busca_claves(pattern,'description',df.head(ca_filas)) # Para trabajar con un DF acotado\n",
    "    df2 = g3.obtener_df_indexado_simple(df1, 'r_metros2') # Genera DF acotado con los valores recuperados unicamente\n",
    "    pospo = pd.merge(pospo, df2,on='indice', how='left')\n",
    "    return pospo"
   ]
  },
  {
   "cell_type": "code",
   "execution_count": 104,
   "metadata": {},
   "outputs": [],
   "source": [
    "    pattern = r\"(\\d*)\\,?\\d*\\s?(?:m²|mts\\s?2|metros\\s?2|mts²|m2|metros\\s?cuadrado|mts\\s?cuadrado)\" # superficie\n",
    "    df1 = g3.busca_claves(pattern,'description',df.head(ca_filas)) # Para trabajar con un DF acotado\n",
    "#     df1 = pd.DataFrame(reemplaza_x_por_valor(dic,df1))\n",
    "    df2 = g3.obtener_df_indexado_simple(df1, 'r_metros2') # Genera DF acotado con los valores recuperados unicamente\n",
    "#     pospo = pd.merge(pospo, df2,on='indice', how='left')"
   ]
  },
  {
   "cell_type": "code",
   "execution_count": 100,
   "metadata": {},
   "outputs": [
    {
     "ename": "ValueError",
     "evalue": "The truth value of a Series is ambiguous. Use a.empty, a.bool(), a.item(), a.any() or a.all().",
     "output_type": "error",
     "traceback": [
      "\u001b[0;31m---------------------------------------------------------------------------\u001b[0m",
      "\u001b[0;31mValueError\u001b[0m                                Traceback (most recent call last)",
      "\u001b[0;32m<ipython-input-100-f5b39c2b821a>\u001b[0m in \u001b[0;36m<module>\u001b[0;34m\u001b[0m\n\u001b[1;32m      1\u001b[0m \u001b[0mdfx\u001b[0m \u001b[0;34m=\u001b[0m \u001b[0mpd\u001b[0m\u001b[0;34m.\u001b[0m\u001b[0mDataFrame\u001b[0m\u001b[0;34m(\u001b[0m\u001b[0mreemplaza_x_por_valor\u001b[0m\u001b[0;34m(\u001b[0m\u001b[0mdic\u001b[0m\u001b[0;34m,\u001b[0m\u001b[0mdf1\u001b[0m\u001b[0;34m)\u001b[0m\u001b[0;34m)\u001b[0m\u001b[0;34m\u001b[0m\u001b[0;34m\u001b[0m\u001b[0m\n\u001b[0;32m----> 2\u001b[0;31m \u001b[0mdf2\u001b[0m \u001b[0;34m=\u001b[0m \u001b[0mg3\u001b[0m\u001b[0;34m.\u001b[0m\u001b[0mobtener_df_indexado_simple\u001b[0m\u001b[0;34m(\u001b[0m\u001b[0mdfx\u001b[0m\u001b[0;34m,\u001b[0m \u001b[0;34m'r_metros2'\u001b[0m\u001b[0;34m)\u001b[0m\u001b[0;34m\u001b[0m\u001b[0;34m\u001b[0m\u001b[0m\n\u001b[0m",
      "\u001b[0;32m~/DigitalHouse/practicoDesafio.01/src/g3utils.py\u001b[0m in \u001b[0;36mobtener_df_indexado_simple\u001b[0;34m(df, ncol, clave)\u001b[0m\n\u001b[1;32m     29\u001b[0m     \u001b[0ml_col\u001b[0m \u001b[0;34m=\u001b[0m \u001b[0;34m[\u001b[0m\u001b[0;34m]\u001b[0m\u001b[0;34m\u001b[0m\u001b[0;34m\u001b[0m\u001b[0m\n\u001b[1;32m     30\u001b[0m     \u001b[0;32mfor\u001b[0m \u001b[0mi\u001b[0m \u001b[0;32min\u001b[0m \u001b[0mrange\u001b[0m\u001b[0;34m(\u001b[0m\u001b[0mlen\u001b[0m\u001b[0;34m(\u001b[0m\u001b[0mdf\u001b[0m\u001b[0;34m.\u001b[0m\u001b[0mindex\u001b[0m\u001b[0;34m)\u001b[0m\u001b[0;34m)\u001b[0m\u001b[0;34m:\u001b[0m\u001b[0;34m\u001b[0m\u001b[0;34m\u001b[0m\u001b[0m\n\u001b[0;32m---> 31\u001b[0;31m         \u001b[0;32mif\u001b[0m \u001b[0mdf\u001b[0m\u001b[0;34m.\u001b[0m\u001b[0miloc\u001b[0m\u001b[0;34m[\u001b[0m\u001b[0mi\u001b[0m\u001b[0;34m]\u001b[0m \u001b[0;34m!=\u001b[0m \u001b[0mclave\u001b[0m\u001b[0;34m:\u001b[0m\u001b[0;34m\u001b[0m\u001b[0;34m\u001b[0m\u001b[0m\n\u001b[0m\u001b[1;32m     32\u001b[0m             \u001b[0ml_ind\u001b[0m\u001b[0;34m.\u001b[0m\u001b[0mappend\u001b[0m\u001b[0;34m(\u001b[0m\u001b[0mi\u001b[0m\u001b[0;34m)\u001b[0m\u001b[0;34m\u001b[0m\u001b[0;34m\u001b[0m\u001b[0m\n\u001b[1;32m     33\u001b[0m             \u001b[0ml_col\u001b[0m\u001b[0;34m.\u001b[0m\u001b[0mappend\u001b[0m\u001b[0;34m(\u001b[0m\u001b[0mdf\u001b[0m\u001b[0;34m.\u001b[0m\u001b[0miloc\u001b[0m\u001b[0;34m[\u001b[0m\u001b[0mi\u001b[0m\u001b[0;34m]\u001b[0m\u001b[0;34m)\u001b[0m\u001b[0;34m\u001b[0m\u001b[0;34m\u001b[0m\u001b[0m\n",
      "\u001b[0;32m//anaconda3/lib/python3.7/site-packages/pandas/core/generic.py\u001b[0m in \u001b[0;36m__nonzero__\u001b[0;34m(self)\u001b[0m\n\u001b[1;32m   1476\u001b[0m         raise ValueError(\"The truth value of a {0} is ambiguous. \"\n\u001b[1;32m   1477\u001b[0m                          \u001b[0;34m\"Use a.empty, a.bool(), a.item(), a.any() or a.all().\"\u001b[0m\u001b[0;34m\u001b[0m\u001b[0;34m\u001b[0m\u001b[0m\n\u001b[0;32m-> 1478\u001b[0;31m                          .format(self.__class__.__name__))\n\u001b[0m\u001b[1;32m   1479\u001b[0m \u001b[0;34m\u001b[0m\u001b[0m\n\u001b[1;32m   1480\u001b[0m     \u001b[0m__bool__\u001b[0m \u001b[0;34m=\u001b[0m \u001b[0m__nonzero__\u001b[0m\u001b[0;34m\u001b[0m\u001b[0;34m\u001b[0m\u001b[0m\n",
      "\u001b[0;31mValueError\u001b[0m: The truth value of a Series is ambiguous. Use a.empty, a.bool(), a.item(), a.any() or a.all()."
     ]
    }
   ],
   "source": [
    "dfx = pd.DataFrame(reemplaza_x_por_valor(dic,df1))\n",
    "df2 = g3.obtener_df_indexado_simple(dfx, 'r_metros2')"
   ]
  },
  {
   "cell_type": "code",
   "execution_count": 106,
   "metadata": {},
   "outputs": [
    {
     "data": {
      "text/plain": [
       "0     None\n",
       "1     None\n",
       "2     None\n",
       "3     None\n",
       "4     None\n",
       "5     None\n",
       "6      106\n",
       "7     None\n",
       "8     None\n",
       "9     None\n",
       "10    None\n",
       "11    None\n",
       "12    None\n",
       "13    None\n",
       "14    None\n",
       "15     115\n",
       "16    None\n",
       "17    None\n",
       "18      40\n",
       "19    None\n",
       "20    None\n",
       "21    None\n",
       "22    1000\n",
       "23    None\n",
       "24     160\n",
       "25     160\n",
       "26    None\n",
       "27    None\n",
       "28     160\n",
       "29    None\n",
       "30    None\n",
       "31    None\n",
       "32    None\n",
       "33    None\n",
       "34    None\n",
       "35        \n",
       "36    None\n",
       "37    None\n",
       "38    None\n",
       "39    None\n",
       "Name: 0, dtype: object"
      ]
     },
     "execution_count": 106,
     "metadata": {},
     "output_type": "execute_result"
    }
   ],
   "source": [
    "df1"
   ]
  },
  {
   "cell_type": "code",
   "execution_count": null,
   "metadata": {},
   "outputs": [],
   "source": [
    "pospo=recuperar_metros(pospo)\n",
    "pospo.shape"
   ]
  },
  {
   "cell_type": "markdown",
   "metadata": {},
   "source": [
    "Analisis y generación frente"
   ]
  },
  {
   "cell_type": "code",
   "execution_count": null,
   "metadata": {},
   "outputs": [],
   "source": [
    "key = 'frente'\n",
    "desc = g3.existe_clave(key, 'description', df)\n",
    "tit = g3.existe_clave(key, 'title', df)\n",
    "print('Datos recuperados: \"description\" ==> ',desc, '\"title\" ==> ',tit, '\"Total\" ==> ',desc+tit)\n"
   ]
  },
  {
   "cell_type": "code",
   "execution_count": null,
   "metadata": {},
   "outputs": [],
   "source": [
    "# OK\n",
    "def recuperar_frente(pospo, recup):\n",
    "    pattern = r\"(frente)\"\n",
    "    df1 = g3.busca_claves(pattern,'description',df.head(ca_filas))\n",
    "    df2 = g3.obtener_df_indexado_simple(df1, 'r_frente')\n",
    "    \n",
    "    df3 = g3.busca_claves(pattern,'title',df.head(ca_filas))\n",
    "    df4 = g3.obtener_df_indexado_simple(df3, 'r_frente')\n",
    "    \n",
    "    df5 = pd.concat([df2,df4]).sort_values('indice')\n",
    "    \n",
    "    recup = g3.registrar_recupero(len(df5),'r_frente', recup)\n",
    "    \n",
    "    pospo = pd.merge(pospo, df5,on='indice', how='left').drop_duplicates(['indice'],keep='last')\n",
    "    return pospo, recup"
   ]
  },
  {
   "cell_type": "code",
   "execution_count": null,
   "metadata": {},
   "outputs": [],
   "source": [
    "pospo, df_recup = recuperar_frente(pospo, df_recup)\n",
    "print('pospo.size ==> ' + str(pospo.shape))\n",
    "print('df_recup.size ==> ' + str(df_recup.shape))"
   ]
  },
  {
   "cell_type": "markdown",
   "metadata": {},
   "source": [
    "Analisis y generación contrafrente"
   ]
  },
  {
   "cell_type": "code",
   "execution_count": null,
   "metadata": {},
   "outputs": [],
   "source": [
    "key = 'contrafrente'\n",
    "desc = g3.existe_clave(key, 'description', df)\n",
    "tit = g3.existe_clave(key, 'title', df)\n",
    "print('Datos recuperados: \"description\" ==> ',desc, '\"title\" ==> ',tit, '\"Total\" ==> ',desc+tit)\n"
   ]
  },
  {
   "cell_type": "code",
   "execution_count": null,
   "metadata": {},
   "outputs": [],
   "source": [
    "# OK\n",
    "\n",
    "def recuperar_contrafrente(pospo, recup):\n",
    "    pattern = r\"(contrafrente)\"\n",
    "    df1 = g3.busca_claves(pattern,'description',df.head(ca_filas))\n",
    "    df2 = g3.obtener_df_indexado_simple(df1, 'r_contrafrente')\n",
    "    \n",
    "    df3 = g3.busca_claves(pattern,'title',df.head(ca_filas))\n",
    "    df4 = g3.obtener_df_indexado_simple(df3, 'r_contrafrente')\n",
    "    \n",
    "    df5 = pd.concat([df2,df4]).sort_values('indice')\n",
    "    \n",
    "    recup = g3.registrar_recupero(len(df5),'r_contrafrente', recup)\n",
    "    \n",
    "    pospo = pd.merge(pospo, df5,on='indice', how='left').drop_duplicates(['indice'],keep='last')\n",
    "    return pospo, recup"
   ]
  },
  {
   "cell_type": "code",
   "execution_count": null,
   "metadata": {},
   "outputs": [],
   "source": [
    "pospo, df_recup = recuperar_contrafrente(pospo, df_recup)\n",
    "print('pospo.size ==> ' + str(pospo.shape))\n",
    "print('df_recup.size ==> ' + str(df_recup.shape))"
   ]
  },
  {
   "cell_type": "code",
   "execution_count": null,
   "metadata": {},
   "outputs": [],
   "source": [
    "#pospo"
   ]
  },
  {
   "cell_type": "code",
   "execution_count": null,
   "metadata": {},
   "outputs": [],
   "source": [
    "g3.crear_csv('test.csv',df_recup)"
   ]
  },
  {
   "cell_type": "code",
   "execution_count": null,
   "metadata": {},
   "outputs": [],
   "source": [
    "df_recup"
   ]
  },
  {
   "cell_type": "code",
   "execution_count": null,
   "metadata": {},
   "outputs": [],
   "source": [
    "# Se verifico previamente un nro considerable de valores recuperados en description y title por esa razón se incluyeron\n",
    "# ok\n",
    "\n",
    "def recuperar_expensas(pospo, recup):\n",
    "    pattern = r\"(expensas)\"\n",
    "    df1 = g3.busca_claves(pattern,'description',df.head(ca_filas)) # Para trabajar con un DF acotado\n",
    "    df2 = g3.obtener_df_indexado_simple(df1, 'r_expensas')\n",
    "    \n",
    "    df3 = g3.busca_claves(pattern,'title',df.head(ca_filas))\n",
    "    df4 = g3.obtener_df_indexado_simple(df3, 'r_expensas')\n",
    "    \n",
    "    df5 = pd.concat([df2,df4]).sort_values('indice')\n",
    "        \n",
    "    recup = g3.registrar_recupero(len(df5),'r_expensas', recup)\n",
    "    \n",
    "    pospo = pd.merge(pospo, df5,on='indice', how='left').drop_duplicates(['indice'],keep='last')\n",
    "    return pospo, recup\n",
    "\n"
   ]
  },
  {
   "cell_type": "code",
   "execution_count": null,
   "metadata": {},
   "outputs": [],
   "source": [
    "pospo, df_recup =recuperar_expensas(pospo, df_recup)\n",
    "print('pospo.size ==> ' + str(pospo.shape))\n",
    "print('df_recup.size ==> ' + str(df_recup.shape))"
   ]
  },
  {
   "cell_type": "code",
   "execution_count": null,
   "metadata": {},
   "outputs": [],
   "source": [
    "#pospo"
   ]
  },
  {
   "cell_type": "code",
   "execution_count": null,
   "metadata": {},
   "outputs": [],
   "source": [
    "df_recup"
   ]
  },
  {
   "cell_type": "code",
   "execution_count": null,
   "metadata": {},
   "outputs": [],
   "source": []
  },
  {
   "cell_type": "code",
   "execution_count": null,
   "metadata": {},
   "outputs": [],
   "source": []
  },
  {
   "cell_type": "code",
   "execution_count": null,
   "metadata": {},
   "outputs": [],
   "source": []
  },
  {
   "cell_type": "code",
   "execution_count": null,
   "metadata": {},
   "outputs": [],
   "source": []
  },
  {
   "cell_type": "code",
   "execution_count": null,
   "metadata": {},
   "outputs": [],
   "source": []
  },
  {
   "cell_type": "code",
   "execution_count": null,
   "metadata": {},
   "outputs": [],
   "source": []
  },
  {
   "cell_type": "markdown",
   "metadata": {},
   "source": [
    "# Desarrollo"
   ]
  },
  {
   "cell_type": "code",
   "execution_count": null,
   "metadata": {},
   "outputs": [],
   "source": [
    "def busca_claves(pattern, columna, df_aux):\n",
    "    regex = re.compile(pattern, flags = re.IGNORECASE)\n",
    "    m = pd.DataFrame([regex.findall(n) for n in df_aux[columna]])\n",
    "    return m[0]"
   ]
  },
  {
   "cell_type": "code",
   "execution_count": null,
   "metadata": {},
   "outputs": [],
   "source": [
    "def registrar_recupero(valor, colu, df_recup):\n",
    "    \n",
    "    if df_recup.size == 0:     \n",
    "        df_recup = pd.DataFrame([valor], columns=[colu])\n",
    "        print('primer dato en df')\n",
    "    elif colu not in df_recup.columns:\n",
    "        df_recup[colu] = [valor+1]\n",
    "        print('columna creada')\n",
    "    else:\n",
    "        df_recup[colu] = [valor+2]\n",
    "        print('columna existente')\n",
    "    return df_recup\n",
    "    \n"
   ]
  },
  {
   "cell_type": "code",
   "execution_count": null,
   "metadata": {},
   "outputs": [],
   "source": [
    "def crear_csv(nombre, def_recup):\n",
    "    ruta = '../data/'+nombre\n",
    "    df_recup.to_csv(ruta, encoding='utf-8')\n",
    "    return print('[LOG] Se ha creado el archivo: ',nombre)\n"
   ]
  },
  {
   "cell_type": "code",
   "execution_count": null,
   "metadata": {},
   "outputs": [],
   "source": []
  },
  {
   "cell_type": "code",
   "execution_count": null,
   "metadata": {},
   "outputs": [],
   "source": []
  },
  {
   "cell_type": "code",
   "execution_count": null,
   "metadata": {},
   "outputs": [],
   "source": [
    "len(df1),len(df2)"
   ]
  },
  {
   "cell_type": "code",
   "execution_count": null,
   "metadata": {},
   "outputs": [],
   "source": [
    "df3 = g3.busca_claves(pattern,'title',df.head(ca_filas))\n",
    "df4 = g3.obtener_df_indexado_simple(df3, 'r_frente')\n",
    "    \n"
   ]
  },
  {
   "cell_type": "code",
   "execution_count": null,
   "metadata": {},
   "outputs": [],
   "source": [
    "len(df3),len(df4)"
   ]
  },
  {
   "cell_type": "code",
   "execution_count": null,
   "metadata": {},
   "outputs": [],
   "source": [
    "df5 = pd.concat([df2,df4]).sort_values('indice')\n",
    "    \n",
    "pospo = pd.merge(pospo, df5,on='indice', how='left').drop_duplicates(['indice'],keep='last')"
   ]
  },
  {
   "cell_type": "code",
   "execution_count": null,
   "metadata": {},
   "outputs": [],
   "source": [
    "len(df5),len(pospo)"
   ]
  },
  {
   "cell_type": "code",
   "execution_count": null,
   "metadata": {},
   "outputs": [],
   "source": [
    "display(df2, df4)\n"
   ]
  },
  {
   "cell_type": "code",
   "execution_count": null,
   "metadata": {},
   "outputs": [],
   "source": []
  },
  {
   "cell_type": "code",
   "execution_count": null,
   "metadata": {},
   "outputs": [],
   "source": []
  },
  {
   "cell_type": "code",
   "execution_count": null,
   "metadata": {},
   "outputs": [],
   "source": []
  },
  {
   "cell_type": "code",
   "execution_count": null,
   "metadata": {},
   "outputs": [],
   "source": []
  },
  {
   "cell_type": "code",
   "execution_count": null,
   "metadata": {},
   "outputs": [],
   "source": []
  },
  {
   "cell_type": "markdown",
   "metadata": {},
   "source": [
    "### Patterns"
   ]
  },
  {
   "cell_type": "code",
   "execution_count": null,
   "metadata": {},
   "outputs": [],
   "source": [
    "# Comentar lo que no se deba ejecutar\n",
    "# Listado de todos los paterns configurados\n",
    "# regex = re.compile(pattern, flags = re.IGNORECASE) # Se ejecuta dentro de funciones específicas\n",
    "\n",
    "# pattern = r'(\\d+)\\s[m]2' # Patron para buscar metros cuadrados (m2)\n",
    "# pattern = r'(\\d*\\w*)\\s*amb'  # Patron para buscar ambientes OK\n",
    "# pattern = r'(\\d*)\\s?\\b[aA]mbientes\\w*'\n",
    "# pattern = r'(\\d*\\w*)\\s*usd'\n",
    "# pattern = r'(\\d*\\w*)\\s*habitacion|(\\d*\\w*)\\s?cuarto|(\\d*\\w*)\\s?dorm|(\\d*\\w*)\\s?pieza'\n",
    "# pattern = r\"(pileta)|(piscina)|(SUM)|(laundry)|(lavadero)|(terraza)|(solarium)|(baulera)|(sauna)|(gimnasio)|(salon de usos multiples)|(cochera)|(garage)|(gim)|(gym)\" # amenities\n",
    "# pattern = r\"(triplex)|(duplex)|(frente)|(contrafrente)|(PH)|(chalet)\" # casa\n",
    "# pattern = r\"(casa)|(departamento)|(triplex)|(duplex)|(frente)|(contrafrente)|(PH)|(chalet)\" # casa\n",
    "# pattern = r\"(\\d*)\\,?\\d*\\s?(?:m²|mts\\s?2|metros\\s?2|mts²|m2|metros\\s?cuadrado|mts\\s?cuadrado)\" # superficie\n",
    "# pattern = r\"(\\d+\\.?\\,?\\d+\\.?\\,?\\d+)\\s?u[$sd]\\w?|u[$sd]\\w?\\s*(\\d+\\.?\\,?\\d+\\.?\\,?\\d+)\" # precio_usd OK\n",
    "# pattern = r\"(\\d+\\.?\\,?\\d+\\.?\\,?\\d+)\\s?\\$|\\$\\s*(\\d+\\.?\\,?\\d+\\.?\\,?\\d+)\" # precio\n",
    "\n"
   ]
  },
  {
   "cell_type": "markdown",
   "metadata": {},
   "source": [
    "### Regex"
   ]
  },
  {
   "cell_type": "markdown",
   "metadata": {},
   "source": [
    "> Depuración sobre feature **'description'**"
   ]
  },
  {
   "cell_type": "code",
   "execution_count": null,
   "metadata": {},
   "outputs": [],
   "source": [
    "key = 'contrafrente'\n",
    "desc = existe_clave(key, 'description', df)\n",
    "tit = existe_clave(key, 'title', df)\n",
    "print('Datos recuperados: \"description\" ==> ',desc, '\"title\" ==> ',tit)\n",
    "print('Total recuperados ==> ',desc+tit)"
   ]
  },
  {
   "cell_type": "code",
   "execution_count": null,
   "metadata": {},
   "outputs": [],
   "source": [
    "pospo"
   ]
  },
  {
   "cell_type": "code",
   "execution_count": null,
   "metadata": {},
   "outputs": [],
   "source": []
  },
  {
   "cell_type": "code",
   "execution_count": null,
   "metadata": {},
   "outputs": [],
   "source": []
  },
  {
   "cell_type": "code",
   "execution_count": null,
   "metadata": {},
   "outputs": [],
   "source": [
    "pattern = r\"(frente)|(contrafrente)\" # casa\n",
    "df1 = g3.busca_claves(pattern,'description',df.head(ca_filas)) # Para trabajar con un DF acotado\n",
    "\n",
    "#df1"
   ]
  },
  {
   "cell_type": "code",
   "execution_count": null,
   "metadata": {},
   "outputs": [],
   "source": [
    "df1 = g3.reemplaza_nan('sin datos',df1)\n",
    "df1[0]=='sin dato'"
   ]
  },
  {
   "cell_type": "code",
   "execution_count": null,
   "metadata": {},
   "outputs": [],
   "source": [
    "len(df1[2])"
   ]
  },
  {
   "cell_type": "code",
   "execution_count": null,
   "metadata": {},
   "outputs": [],
   "source": [
    "# Ejecuta función de busqueda de claves en base a los Patterns previamente configurados\n",
    "\n",
    "df1 = g3.busca_claves(pattern,'description',df.head(ca_filas)) # Para trabajar con un DF acotado\n",
    "#df1 = g3.busca_claves(pattern,'description',df) # Para trabajar con el DF completo\n",
    "#df1 = g3.reemplaza_nan('sin datos',df1)\n",
    "df1\n",
    "#df1.iloc[2]\n",
    "#len(df1.iloc[2])"
   ]
  },
  {
   "cell_type": "code",
   "execution_count": null,
   "metadata": {},
   "outputs": [],
   "source": [
    "df2 = g3.obtener_df_indexado(df1, 'metros2') # Genera DF acotado con los valores recuperados unicamente\n",
    "df2"
   ]
  },
  {
   "cell_type": "code",
   "execution_count": null,
   "metadata": {},
   "outputs": [],
   "source": [
    "len(df)"
   ]
  },
  {
   "cell_type": "code",
   "execution_count": null,
   "metadata": {},
   "outputs": [],
   "source": []
  },
  {
   "cell_type": "markdown",
   "metadata": {},
   "source": [
    "### [FIN] Procesamiento de limpieza y carga de columna depurada en df post-produccion"
   ]
  },
  {
   "cell_type": "markdown",
   "metadata": {},
   "source": [
    "### Procesamiento de armado intermedio de df de post-produccion\n",
    "> * Modo de uso temporal hasta terminar de depurar todas las claves necesarias\n",
    "> * Cada grupo de código se utiliza para realizar consolidado de filas dentro del DF que luego será el definitivo"
   ]
  },
  {
   "cell_type": "markdown",
   "metadata": {},
   "source": [
    "### Armado de dataset definitivo"
   ]
  },
  {
   "cell_type": "code",
   "execution_count": null,
   "metadata": {},
   "outputs": [],
   "source": [
    "# Agregado de columna limpia a DF definitivo\n",
    "dfx = g3.agregar_columna('ambiente', dfx, df_temp)"
   ]
  },
  {
   "cell_type": "markdown",
   "metadata": {},
   "source": [
    "# ------------------------------\n",
    "# SIN USO\n",
    "# ------------------------------"
   ]
  },
  {
   "cell_type": "code",
   "execution_count": null,
   "metadata": {},
   "outputs": [],
   "source": [
    "#tmp_df = df[\"cases\"].str.extract(\"([a-z])([0-9]+)([0-9]{2})\",expand=True) \n",
    "tmp_df = df[\"description\"].str.extract(\"((\\d*)\\s?\\b[aA]mb\\w*)\",expand=True) \n",
    "tmp_df.dropna(axis=0)"
   ]
  },
  {
   "cell_type": "code",
   "execution_count": null,
   "metadata": {},
   "outputs": [],
   "source": [
    "# TEST: Regex de prueba. Alimenta un DF con el resultado\n",
    "# CONDICION: No lee NaN's\n",
    "# NOTA: Me di cuenta que REGEX analiza todo el str y en muchos casos detecta la KEY en varias partes del \n",
    "#   str, ergo, al capturar el siguiente dato, lo incluye dentro de una lista y eso lo representa en otra columna\n",
    "#   Entonces ponerle nombre a una única columna no tendría sentido. Si verificamos con .head(10) no vamos\n",
    "#   a tener problemas porque justo las 10 primeras filas no tienen mas de una KEY en el str a analizar...\n",
    "\n",
    "#m = pd.DataFrame([regex.findall(n) for n in df_a1['description'].head(10)], columns=[\"ambientes\"] )\n",
    "m = pd.DataFrame([regex.findall(n) for n in df_a1['description'].head(50)])\n",
    "#m = pd.DataFrame([regex.findall(n) for n in df_a1['description']])\n",
    "display(len(m))\n",
    "#m\n",
    "m[0]\n"
   ]
  },
  {
   "cell_type": "markdown",
   "metadata": {},
   "source": [
    "### Pruebas de campos"
   ]
  },
  {
   "cell_type": "code",
   "execution_count": null,
   "metadata": {
    "scrolled": false
   },
   "outputs": [],
   "source": [
    "# Para verificar el contenido de alguna fila al azar\n",
    "df.sample(1)['description']"
   ]
  },
  {
   "cell_type": "code",
   "execution_count": null,
   "metadata": {},
   "outputs": [],
   "source": [
    "# Para verificar algún problema en alguna fila en particular\n",
    "df.iloc[280]['description']"
   ]
  },
  {
   "cell_type": "code",
   "execution_count": null,
   "metadata": {},
   "outputs": [],
   "source": [
    "#df.iloc[277]"
   ]
  },
  {
   "cell_type": "code",
   "execution_count": null,
   "metadata": {},
   "outputs": [],
   "source": []
  },
  {
   "cell_type": "markdown",
   "metadata": {},
   "source": [
    "### Reemplazo de NaN's\n",
    "Esto se realiza porque la función de búsqueda explotaba "
   ]
  },
  {
   "cell_type": "code",
   "execution_count": null,
   "metadata": {},
   "outputs": [],
   "source": [
    "df_a1=df.replace(np.nan,'sin-dato')\n",
    "#df_a1.head(2)"
   ]
  },
  {
   "cell_type": "code",
   "execution_count": null,
   "metadata": {},
   "outputs": [],
   "source": [
    "def reemplaza_nan(df, clave):\n",
    "    return df.replace(np.nan,clave)"
   ]
  },
  {
   "cell_type": "markdown",
   "metadata": {},
   "source": [
    "### Funciones"
   ]
  },
  {
   "cell_type": "code",
   "execution_count": null,
   "metadata": {},
   "outputs": [],
   "source": [
    "# Busca claves segun pattern en columna dentro de dataFrame \n",
    "# Entrada: pattern, columna, df\n",
    "# Salida: DataFrame\n",
    "\n",
    "def busca_claves(pattern, columna, df_aux):\n",
    "    regex = re.compile(pattern, flags = re.IGNORECASE)\n",
    "    m = pd.DataFrame([regex.findall(n) for n in df_aux[columna].head(10000)])\n",
    "    return m[0]"
   ]
  },
  {
   "cell_type": "code",
   "execution_count": null,
   "metadata": {},
   "outputs": [],
   "source": [
    "def existe_clave(key, columna, df_aux):    \n",
    "    m = []\n",
    "    for frase in df_aux[columna]:\n",
    "        if key in frase:\n",
    "            m.append(True)\n",
    "        else:\n",
    "            m.append(False)\n",
    "    return sum(m)\n"
   ]
  },
  {
   "cell_type": "code",
   "execution_count": null,
   "metadata": {},
   "outputs": [],
   "source": [
    "# No se está utilizando mas desde que el dataset se encuentra en minúsculas y sin acentos\n",
    "def quitar_caracteres(column):\n",
    "    for i in range(len(column)):\n",
    "        if type(column[i]) == str:\n",
    "            column[i] = str.lower(unidecode.unidecode(column[i]))"
   ]
  },
  {
   "cell_type": "code",
   "execution_count": null,
   "metadata": {},
   "outputs": [],
   "source": [
    "# Cambia los literales numericos x floats. En caso de no detectar la clave en un diccionario, reemplaza por NaN.\n",
    "# El reemplazo x NaN se hace para poder realizar operaciones.\n",
    "# Mejoras: debiera recibir diccionario y lista_prop como parametros para dejar una función polimorfica. \n",
    "# Entrada: DataFrame\n",
    "# Salida: DataFrame\n",
    "\n",
    "def cambiar_x_nros(df):\n",
    "    dic = {'mono': 1, 'un':1, 'uno':1, 'dos':2, 'tres':3, 'cuatro':4, 'cinco':5 ,'seis':6 ,'siete':7}\n",
    "    lista_prop = ['mono','un','uno','dos','tres','cuatro','cinco','seis','siete']\n",
    "    serie_1 = pd.Series([x if x not in lista_prop else dic.get(x) for x in df])\n",
    "    serie_2 = pd.to_numeric(serie_1, errors='coerse', downcast='float') # coerse: pasa a NaN los no-numericos\n",
    "    return pd.DataFrame(serie_2)"
   ]
  },
  {
   "cell_type": "code",
   "execution_count": null,
   "metadata": {
    "scrolled": true
   },
   "outputs": [],
   "source": [
    "quitar_caracteres(df[\"place_name\"])\n",
    "quitar_caracteres(df[\"place_with_parent_names\"])\n",
    "quitar_caracteres(df[\"country_name\"])\n",
    "quitar_caracteres(df[\"state_name\"])\n",
    "quitar_caracteres(df[\"description\"])\n",
    "quitar_caracteres(df[\"title\"])\n"
   ]
  },
  {
   "cell_type": "code",
   "execution_count": null,
   "metadata": {},
   "outputs": [],
   "source": []
  },
  {
   "cell_type": "code",
   "execution_count": null,
   "metadata": {},
   "outputs": [],
   "source": []
  },
  {
   "cell_type": "code",
   "execution_count": null,
   "metadata": {},
   "outputs": [],
   "source": []
  },
  {
   "cell_type": "code",
   "execution_count": null,
   "metadata": {},
   "outputs": [],
   "source": []
  }
 ],
 "metadata": {
  "kernelspec": {
   "display_name": "Python 3",
   "language": "python",
   "name": "python3"
  },
  "language_info": {
   "codemirror_mode": {
    "name": "ipython",
    "version": 3
   },
   "file_extension": ".py",
   "mimetype": "text/x-python",
   "name": "python",
   "nbconvert_exporter": "python",
   "pygments_lexer": "ipython3",
   "version": "3.7.3"
  }
 },
 "nbformat": 4,
 "nbformat_minor": 2
}
